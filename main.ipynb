{
 "cells": [
  {
   "cell_type": "code",
   "execution_count": 1,
   "metadata": {},
   "outputs": [],
   "source": [
    "# pull in dependencies needed from sportsreference api\n",
    "from sportsreference.mlb.teams import Teams\n",
    "from sportsreference.mlb.teams import Roster\n",
    "from sportsreference.mlb.roster import Player\n",
    "\n",
    "# pull in all other dependencies needed\n",
    "import itertools\n",
    "import pandas as pd\n",
    "import time"
   ]
  },
  {
   "cell_type": "code",
   "execution_count": null,
   "metadata": {},
   "outputs": [],
   "source": [
    "# to create a list of player ids:\n",
    "# set up an empty array that we will append to\n",
    "player_list = []\n",
    "\n",
    "# 1) create a loop to go through years\n",
    "for year in range(1876,2020):\n",
    "\n",
    "# 2) create a loop to go through teams and pull out the player names and their ids\n",
    "    for team in Teams(year):\n",
    "        player_data = Roster(team.abbreviation, year = year, slim=True).players\n",
    "        player_list.append(player_data)"
   ]
  },
  {
   "cell_type": "code",
   "execution_count": null,
   "metadata": {},
   "outputs": [],
   "source": [
    "# convert the dictionay of arrays to an array of arrays using list comprehension\n",
    "info = [list(x.keys()) for x in player_list]"
   ]
  },
  {
   "cell_type": "code",
   "execution_count": null,
   "metadata": {},
   "outputs": [],
   "source": [
    "# flatten the list using itertools\n",
    "merged = list(itertools.chain(*info))"
   ]
  },
  {
   "cell_type": "code",
   "execution_count": null,
   "metadata": {},
   "outputs": [],
   "source": [
    "# create a pandas data frame that will show all of the player ids\n",
    "df = pd.DataFrame(merged)"
   ]
  },
  {
   "cell_type": "code",
   "execution_count": null,
   "metadata": {},
   "outputs": [],
   "source": [
    "# use .unique() on the df to clear out any duplicate players\n",
    "unique_player_id = df[0].unique()"
   ]
  },
  {
   "cell_type": "code",
   "execution_count": null,
   "metadata": {},
   "outputs": [],
   "source": [
    "# to create a list of data frames for each player's stats:\n",
    "# set up an empty array that we will append to\n",
    "player_df_list = []\n",
    "\n",
    "# create a loop that will find each players' id and create a data frame of relevant statistics\n",
    "for index, player_id in enumerate(unique_player_id):\n",
    "    try:\n",
    "        player_df = Player(player_id).dataframe[[\"player_id\", \"name\", \"at_bats\", \"runs\", \"hits\", \"runs_batted_in\", \"bases_on_balls\", \"batting_average\", \"doubles\", \"triples\", \"home_runs\", \"stolen_bases\"]]\n",
    "        player_df_list.append(player_df)\n",
    "        print(index, len(unique_player_id))\n",
    "    except:\n",
    "        print(\"skip\")\n",
    "    time.sleep(1)"
   ]
  },
  {
   "cell_type": "code",
   "execution_count": null,
   "metadata": {},
   "outputs": [],
   "source": [
    "# Use .loc function in pandas to just obtain the career stats for every player\n",
    "career_df_list = []\n",
    "for df in player_df_list:\n",
    "    career_df_list.append(df.loc[\"Career\"])"
   ]
  },
  {
   "cell_type": "code",
   "execution_count": null,
   "metadata": {},
   "outputs": [],
   "source": [
    "# use concat to re-write the list of data frames as a single data frame\n",
    "clean_df = pd.concat(career_df_list)\n",
    "\n",
    "# and drop the duplicates of names using either 'player_id' or 'name'\n",
    "mlb_history_df = clean_df.drop_duplicates(subset=['player_id'])\n",
    "mlb_history_df.head()"
   ]
  },
  {
   "cell_type": "code",
   "execution_count": null,
   "metadata": {},
   "outputs": [],
   "source": [
    "# read in the hall of fame csv\n",
    "hall_of_fame_df = pd.read_csv('Resources/Hall_of_Fame_List.csv')\n",
    "hall_of_fame_df.head()"
   ]
  },
  {
   "cell_type": "code",
   "execution_count": null,
   "metadata": {},
   "outputs": [],
   "source": [
    "# clean the csv file to show only the names of the hall of famers and status\n",
    "hall_of_fame_df = hall_of_fame_df.dropna()\n",
    "hof_df = hall_of_fame_df.rename(columns={\"Name\":\"name\", \"Primary position\": \"position\"})\n",
    "hof_cleaned = hof_df[[\"name\", \"position\"]]\n",
    "hof_cleaned.head()"
   ]
  },
  {
   "cell_type": "code",
   "execution_count": null,
   "metadata": {},
   "outputs": [],
   "source": [
    "# join the no_duplicates_df with hof_cleaned to show career stats and hall of fame status\n",
    "merge_df = mlb_history_df.merge(hof_cleaned, on='name', how='outer')\n",
    "final_df = merge_df.fillna('no').rename(columns={\"position\": \"hall_of_fame\"})\n",
    "final_df"
   ]
  },
  {
   "cell_type": "code",
   "execution_count": null,
   "metadata": {},
   "outputs": [],
   "source": [
    "# export as a csv to Resources folder\n",
    "final_df.to_csv('Resources/player_data.csv', index=False)"
   ]
  },
  {
   "cell_type": "code",
   "execution_count": null,
   "metadata": {},
   "outputs": [],
   "source": []
  }
 ],
 "metadata": {
  "kernelspec": {
   "display_name": "Python 3",
   "language": "python",
   "name": "python3"
  },
  "language_info": {
   "codemirror_mode": {
    "name": "ipython",
    "version": 3
   },
   "file_extension": ".py",
   "mimetype": "text/x-python",
   "name": "python",
   "nbconvert_exporter": "python",
   "pygments_lexer": "ipython3",
   "version": "3.6.10"
  }
 },
 "nbformat": 4,
 "nbformat_minor": 4
}
