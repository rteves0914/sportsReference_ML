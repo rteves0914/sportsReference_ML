{
 "metadata": {
  "language_info": {
   "codemirror_mode": {
    "name": "ipython",
    "version": 3
   },
   "file_extension": ".py",
   "mimetype": "text/x-python",
   "name": "python",
   "nbconvert_exporter": "python",
   "pygments_lexer": "ipython3",
   "version": "3.6.10-final"
  },
  "orig_nbformat": 2,
  "kernelspec": {
   "name": "python3",
   "display_name": "Python 3.6.10 64-bit ('dviz_ml': conda)",
   "metadata": {
    "interpreter": {
     "hash": "d8bdc1690a5f193a41d219383ea2ab698846f58b278263fa8c6c95547fccbf49"
    }
   }
  }
 },
 "nbformat": 4,
 "nbformat_minor": 2,
 "cells": [
  {
   "cell_type": "code",
   "execution_count": 42,
   "metadata": {},
   "outputs": [
    {
     "output_type": "execute_result",
     "data": {
      "text/plain": [
       "{'poseybu01': 'Buster Posey',\n",
       " 'huffau01': 'Aubrey Huff',\n",
       " 'sanchfr01': 'Freddy Sanchez',\n",
       " 'uribeju01': 'Juan Uribe',\n",
       " 'sandopa01': 'Pablo Sandoval',\n",
       " 'burrepa01': 'Pat Burrell',\n",
       " 'rowanaa01': 'Aaron Rowand',\n",
       " 'schiena01': 'Nate Schierholtz',\n",
       " 'torrean02': 'Andres Torres',\n",
       " 'renteed01': 'Edgar Renteria',\n",
       " 'molinbe01': 'Bengie Molina',\n",
       " 'ishiktr01': 'Travis Ishikawa',\n",
       " 'whiteel03': 'Eli Whiteside',\n",
       " 'guilljo01': 'Jose Guillen',\n",
       " 'derosma01': 'Mark DeRosa',\n",
       " 'bowkejo01': 'John Bowker',\n",
       " 'downsma01': 'Matt Downs',\n",
       " 'rossco01': 'Cody Ross',\n",
       " 'fontemi01': 'Mike Fontenot',\n",
       " 'velezeu01': 'Eugenio Velez',\n",
       " 'rohliry01': 'Ryan Rohlinger',\n",
       " 'burriem01': 'Emmanuel Burriss',\n",
       " 'fordda03': 'Darren Ford',\n",
       " 'linceti01': 'Tim Lincecum',\n",
       " 'cainma01': 'Matt Cain',\n",
       " 'zitoba01': 'Barry Zito',\n",
       " 'sanchjo01': 'Jonathan Sanchez',\n",
       " 'bumgama01': 'Madison Bumgarner',\n",
       " 'welleto01': 'Todd Wellemeyer',\n",
       " 'wilsobr01': 'Brian Wilson',\n",
       " 'martijo07': 'Joe Martinez',\n",
       " 'romose01': 'Sergio Romo',\n",
       " 'motagu01': 'Guillermo Mota',\n",
       " 'affelje01': 'Jeremy Affeldt',\n",
       " 'runzlda01': 'Dan Runzler',\n",
       " 'bautide01': 'Denny Bautista',\n",
       " 'ramirra02': 'Ramon Ramirez',\n",
       " 'raych01': 'Chris Ray',\n",
       " 'garcija01': 'Santiago Casilla',\n",
       " 'joaquwa01': 'Waldis Joaquin',\n",
       " 'meddebr01': 'Brandon Medders',\n",
       " 'lopezja02': 'Javier Lopez'}"
      ]
     },
     "metadata": {},
     "execution_count": 42
    }
   ],
   "source": [
    "from sportsreference.mlb.teams import Roster\n",
    "\n",
    "giants = Roster('SFG', year = '2010', slim=True)\n",
    "giants.players\n",
    "\n",
    "# for player in giants.players:\n",
    "#    print(player.name)"
   ]
  },
  {
   "cell_type": "code",
   "execution_count": 62,
   "metadata": {},
   "outputs": [
    {
     "output_type": "execute_result",
     "data": {
      "text/plain": [
       "        at_bats  hits  batting_average  doubles  triples  home_runs  \\\n",
       "2009         17     2            0.118        0        0          0   \n",
       "2010        406   124            0.305       23        2         18   \n",
       "2011        162    46            0.284        5        0          4   \n",
       "2012        530   178            0.336       39        1         24   \n",
       "2013        520   153            0.294       34        1         15   \n",
       "2014        547   170            0.311       28        2         22   \n",
       "2015        557   177            0.318       28        0         19   \n",
       "2016        539   155            0.288       33        2         14   \n",
       "2017        494   158            0.320       34        0         12   \n",
       "2018        398   113            0.284       22        1          5   \n",
       "2019        405   104            0.257       24        0          7   \n",
       "Career     4575  1380            0.302      270        9        140   \n",
       "\n",
       "        runs_batted_in  \n",
       "2009                 0  \n",
       "2010                67  \n",
       "2011                21  \n",
       "2012               103  \n",
       "2013                72  \n",
       "2014                89  \n",
       "2015                95  \n",
       "2016                80  \n",
       "2017                67  \n",
       "2018                41  \n",
       "2019                38  \n",
       "Career             673  "
      ],
      "text/html": "<div>\n<style scoped>\n    .dataframe tbody tr th:only-of-type {\n        vertical-align: middle;\n    }\n\n    .dataframe tbody tr th {\n        vertical-align: top;\n    }\n\n    .dataframe thead th {\n        text-align: right;\n    }\n</style>\n<table border=\"1\" class=\"dataframe\">\n  <thead>\n    <tr style=\"text-align: right;\">\n      <th></th>\n      <th>at_bats</th>\n      <th>hits</th>\n      <th>batting_average</th>\n      <th>doubles</th>\n      <th>triples</th>\n      <th>home_runs</th>\n      <th>runs_batted_in</th>\n    </tr>\n  </thead>\n  <tbody>\n    <tr>\n      <th>2009</th>\n      <td>17</td>\n      <td>2</td>\n      <td>0.118</td>\n      <td>0</td>\n      <td>0</td>\n      <td>0</td>\n      <td>0</td>\n    </tr>\n    <tr>\n      <th>2010</th>\n      <td>406</td>\n      <td>124</td>\n      <td>0.305</td>\n      <td>23</td>\n      <td>2</td>\n      <td>18</td>\n      <td>67</td>\n    </tr>\n    <tr>\n      <th>2011</th>\n      <td>162</td>\n      <td>46</td>\n      <td>0.284</td>\n      <td>5</td>\n      <td>0</td>\n      <td>4</td>\n      <td>21</td>\n    </tr>\n    <tr>\n      <th>2012</th>\n      <td>530</td>\n      <td>178</td>\n      <td>0.336</td>\n      <td>39</td>\n      <td>1</td>\n      <td>24</td>\n      <td>103</td>\n    </tr>\n    <tr>\n      <th>2013</th>\n      <td>520</td>\n      <td>153</td>\n      <td>0.294</td>\n      <td>34</td>\n      <td>1</td>\n      <td>15</td>\n      <td>72</td>\n    </tr>\n    <tr>\n      <th>2014</th>\n      <td>547</td>\n      <td>170</td>\n      <td>0.311</td>\n      <td>28</td>\n      <td>2</td>\n      <td>22</td>\n      <td>89</td>\n    </tr>\n    <tr>\n      <th>2015</th>\n      <td>557</td>\n      <td>177</td>\n      <td>0.318</td>\n      <td>28</td>\n      <td>0</td>\n      <td>19</td>\n      <td>95</td>\n    </tr>\n    <tr>\n      <th>2016</th>\n      <td>539</td>\n      <td>155</td>\n      <td>0.288</td>\n      <td>33</td>\n      <td>2</td>\n      <td>14</td>\n      <td>80</td>\n    </tr>\n    <tr>\n      <th>2017</th>\n      <td>494</td>\n      <td>158</td>\n      <td>0.320</td>\n      <td>34</td>\n      <td>0</td>\n      <td>12</td>\n      <td>67</td>\n    </tr>\n    <tr>\n      <th>2018</th>\n      <td>398</td>\n      <td>113</td>\n      <td>0.284</td>\n      <td>22</td>\n      <td>1</td>\n      <td>5</td>\n      <td>41</td>\n    </tr>\n    <tr>\n      <th>2019</th>\n      <td>405</td>\n      <td>104</td>\n      <td>0.257</td>\n      <td>24</td>\n      <td>0</td>\n      <td>7</td>\n      <td>38</td>\n    </tr>\n    <tr>\n      <th>Career</th>\n      <td>4575</td>\n      <td>1380</td>\n      <td>0.302</td>\n      <td>270</td>\n      <td>9</td>\n      <td>140</td>\n      <td>673</td>\n    </tr>\n  </tbody>\n</table>\n</div>"
     },
     "metadata": {},
     "execution_count": 62
    }
   ],
   "source": [
    "from sportsreference.mlb.roster import Player\n",
    "buster_posey = Player('poseybu01')\n",
    "buster_posey.dataframe[[\"at_bats\", \"hits\", \"batting_average\", \"doubles\", \"triples\", \"home_runs\", \"runs_batted_in\"]]"
   ]
  },
  {
   "cell_type": "code",
   "execution_count": 45,
   "metadata": {},
   "outputs": [],
   "source": [
    "# Function to get player info from Player class object.\n",
    "def get_player_df(player):\n",
    "    \n",
    "    # helper function to get year for each row and denote\n",
    "    # rows that contain career totals.\n",
    "    def get_year(ix):\n",
    "        if ix[0] == \"Career\":\n",
    "            return \"Career\"\n",
    "        elif ix[0] == \"1999-00\":\n",
    "            return \"2000\"\n",
    "        else:\n",
    "            return ix[0][0:2] + ix[0][-2:]\n",
    "    \n",
    "    # get player df and add some extra info\n",
    "    player_df = player.dataframe\n",
    "    player_df['birth_date'] = player.birth_date\n",
    "    player_df['player_id'] = player.player_id\n",
    "    player_df['name'] = player.name\n",
    "    player_df['year'] = [get_year(ix) for ix in player_df.index]\n",
    "    player_df['id'] = [player_id + ' ' + year for player_id,\n",
    "                       year in zip(player_df['player_id'],\n",
    "                       player_df['year'])]\n",
    "    player_df['age'] = [get_age(year, bd) for year,\n",
    "                        bd in zip(player_df.index,\n",
    "                        player_df['birth_date'])]\n",
    "    player_df.set_index('id', drop = True, inplace = True)\n",
    "    \n",
    "    return player_df"
   ]
  },
  {
   "cell_type": "code",
   "execution_count": 49,
   "metadata": {},
   "outputs": [
    {
     "output_type": "stream",
     "name": "stdout",
     "text": [
      "\n",
      "2020\n",
      "\n",
      "DAL\n",
      "\n"
     ]
    },
    {
     "output_type": "error",
     "ename": "ValueError",
     "evalue": "Can't pull requested team page. Ensure the following URL exists: https://www.baseball-reference.com/teams/DAL/2020.shtml",
     "traceback": [
      "\u001b[0;31m---------------------------------------------------------------------------\u001b[0m",
      "\u001b[0;31mValueError\u001b[0m                                Traceback (most recent call last)",
      "\u001b[0;32m<ipython-input-49-14154e8026f2>\u001b[0m in \u001b[0;36m<module>\u001b[0;34m\u001b[0m\n\u001b[1;32m     14\u001b[0m \u001b[0;34m\u001b[0m\u001b[0m\n\u001b[1;32m     15\u001b[0m         \u001b[0;31m# iterate through every player on a team roster.\u001b[0m\u001b[0;34m\u001b[0m\u001b[0;34m\u001b[0m\u001b[0;34m\u001b[0m\u001b[0m\n\u001b[0;32m---> 16\u001b[0;31m         \u001b[0;32mfor\u001b[0m \u001b[0mplayer_id\u001b[0m \u001b[0;32min\u001b[0m \u001b[0mRoster\u001b[0m\u001b[0;34m(\u001b[0m\u001b[0mteam\u001b[0m\u001b[0;34m,\u001b[0m \u001b[0myear\u001b[0m \u001b[0;34m=\u001b[0m \u001b[0myear\u001b[0m\u001b[0;34m,\u001b[0m \u001b[0mslim\u001b[0m \u001b[0;34m=\u001b[0m \u001b[0;32mTrue\u001b[0m\u001b[0;34m)\u001b[0m\u001b[0;34m.\u001b[0m\u001b[0mplayers\u001b[0m\u001b[0;34m.\u001b[0m\u001b[0mkeys\u001b[0m\u001b[0;34m(\u001b[0m\u001b[0;34m)\u001b[0m\u001b[0;34m:\u001b[0m\u001b[0;34m\u001b[0m\u001b[0;34m\u001b[0m\u001b[0m\n\u001b[0m\u001b[1;32m     17\u001b[0m \u001b[0;34m\u001b[0m\u001b[0m\n\u001b[1;32m     18\u001b[0m             \u001b[0;31m# only pull player info if that player hasn't\u001b[0m\u001b[0;34m\u001b[0m\u001b[0;34m\u001b[0m\u001b[0;34m\u001b[0m\u001b[0m\n",
      "\u001b[0;32m/opt/anaconda3/envs/dviz_ml/lib/python3.6/site-packages/sportsreference/mlb/roster.py\u001b[0m in \u001b[0;36m__init__\u001b[0;34m(self, team, year, slim)\u001b[0m\n\u001b[1;32m   1442\u001b[0m             \u001b[0mself\u001b[0m\u001b[0;34m.\u001b[0m\u001b[0m_players\u001b[0m \u001b[0;34m=\u001b[0m \u001b[0;34m[\u001b[0m\u001b[0;34m]\u001b[0m\u001b[0;34m\u001b[0m\u001b[0;34m\u001b[0m\u001b[0m\n\u001b[1;32m   1443\u001b[0m \u001b[0;34m\u001b[0m\u001b[0m\n\u001b[0;32m-> 1444\u001b[0;31m         \u001b[0mself\u001b[0m\u001b[0;34m.\u001b[0m\u001b[0m_find_players\u001b[0m\u001b[0;34m(\u001b[0m\u001b[0myear\u001b[0m\u001b[0;34m)\u001b[0m\u001b[0;34m\u001b[0m\u001b[0;34m\u001b[0m\u001b[0m\n\u001b[0m\u001b[1;32m   1445\u001b[0m \u001b[0;34m\u001b[0m\u001b[0m\n\u001b[1;32m   1446\u001b[0m     \u001b[0;32mdef\u001b[0m \u001b[0m_pull_team_page\u001b[0m\u001b[0;34m(\u001b[0m\u001b[0mself\u001b[0m\u001b[0;34m,\u001b[0m \u001b[0murl\u001b[0m\u001b[0;34m)\u001b[0m\u001b[0;34m:\u001b[0m\u001b[0;34m\u001b[0m\u001b[0;34m\u001b[0m\u001b[0m\n",
      "\u001b[0;32m/opt/anaconda3/envs/dviz_ml/lib/python3.6/site-packages/sportsreference/mlb/roster.py\u001b[0m in \u001b[0;36m_find_players\u001b[0;34m(self, year)\u001b[0m\n\u001b[1;32m   1558\u001b[0m             output = (\"Can't pull requested team page. Ensure the following \"\n\u001b[1;32m   1559\u001b[0m                       \"URL exists: %s\" % url)\n\u001b[0;32m-> 1560\u001b[0;31m             \u001b[0;32mraise\u001b[0m \u001b[0mValueError\u001b[0m\u001b[0;34m(\u001b[0m\u001b[0moutput\u001b[0m\u001b[0;34m)\u001b[0m\u001b[0;34m\u001b[0m\u001b[0;34m\u001b[0m\u001b[0m\n\u001b[0m\u001b[1;32m   1561\u001b[0m         \u001b[0mplayers\u001b[0m \u001b[0;34m=\u001b[0m \u001b[0mpage\u001b[0m\u001b[0;34m(\u001b[0m\u001b[0;34m'table#team_batting tbody tr'\u001b[0m\u001b[0;34m)\u001b[0m\u001b[0;34m.\u001b[0m\u001b[0mitems\u001b[0m\u001b[0;34m(\u001b[0m\u001b[0;34m)\u001b[0m\u001b[0;34m\u001b[0m\u001b[0;34m\u001b[0m\u001b[0m\n\u001b[1;32m   1562\u001b[0m         \u001b[0mplayers_parsed\u001b[0m \u001b[0;34m=\u001b[0m \u001b[0;34m[\u001b[0m\u001b[0;34m]\u001b[0m\u001b[0;34m\u001b[0m\u001b[0;34m\u001b[0m\u001b[0m\n",
      "\u001b[0;31mValueError\u001b[0m: Can't pull requested team page. Ensure the following URL exists: https://www.baseball-reference.com/teams/DAL/2020.shtml"
     ]
    }
   ],
   "source": [
    "# initialize a list of players that we have pulled data for\n",
    "players_collected = []\n",
    "season_df_init = 0\n",
    "career_df_init = 0\n",
    "season_df = 0\n",
    "career_df = 0\n",
    "# iterate through years.\n",
    "for year in range(2020, 1999, -1):\n",
    "    print('\\n' + str(year))\n",
    "        \n",
    "    # iterate through all teams in that year.\n",
    "    for team in Teams(year = str(year)).dataframes.index:\n",
    "        print('\\n' + team + '\\n')\n",
    "        \n",
    "        # iterate through every player on a team roster.\n",
    "        for player_id in Roster(team, year = year, slim = True).players.keys():\n",
    "            \n",
    "            # only pull player info if that player hasn't\n",
    "            # been pulled already.\n",
    "            if player_id not in players_collected:\n",
    "                \n",
    "                player = Player(player_id)\n",
    "                player_info = get_player_df(player)\n",
    "                player_seasons = player_info[player_info['year'] != \"Career\"]\n",
    "                player_career = player_info[player_info['year'] == \"Career\"]\n",
    "                \n",
    "                # create season_df if not initialized\n",
    "                if not season_df_init:\n",
    "                    season_df = player_seasons\n",
    "                    season_df_init = 1\n",
    "                \n",
    "                # else concatenate to season_df\n",
    "                else:\n",
    "                    season_df = pd.concat([season_df, player_seasons], axis = 0)\n",
    "                    \n",
    "                if not career_df_init:\n",
    "                    career_df = player_career\n",
    "                    career_df_init = 1\n",
    "                \n",
    "                # else concatenate to career_df\n",
    "                else:\n",
    "                    career_df = pd.concat([career_df, player_career], axis = 0)\n",
    "                \n",
    "                # add player to players_collected\n",
    "                players_collected.append(player_id)\n",
    "                print(player.name)"
   ]
  },
  {
   "cell_type": "code",
   "execution_count": null,
   "metadata": {},
   "outputs": [],
   "source": []
  }
 ]
}