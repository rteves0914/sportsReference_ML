{
 "metadata": {
  "language_info": {
   "codemirror_mode": {
    "name": "ipython",
    "version": 3
   },
   "file_extension": ".py",
   "mimetype": "text/x-python",
   "name": "python",
   "nbconvert_exporter": "python",
   "pygments_lexer": "ipython3",
   "version": "3.6.10-final"
  },
  "orig_nbformat": 2,
  "kernelspec": {
   "name": "python3610jvsc74a57bd0d8bdc1690a5f193a41d219383ea2ab698846f58b278263fa8c6c95547fccbf49",
   "display_name": "Python 3.6.10 64-bit ('dviz_ml': conda)"
  }
 },
 "nbformat": 4,
 "nbformat_minor": 2,
 "cells": [
  {
   "cell_type": "code",
   "execution_count": 1,
   "metadata": {},
   "outputs": [],
   "source": [
    "# import dependencies here\n",
    "import pandas as pd\n",
    "import matplotlib.pyplot as plt\n",
    "import tensorflow as tf\n",
    "\n",
    "from sklearn.model_selection import train_test_split\n",
    "from sklearn.preprocessing import LabelEncoder, MinMaxScaler\n",
    "\n",
    "from tensorflow.keras.utils import to_categorical\n",
    "from tensorflow.keras.models import Sequential\n",
    "from tensorflow.keras.layers import Dense"
   ]
  },
  {
   "cell_type": "code",
   "execution_count": 2,
   "metadata": {},
   "outputs": [
    {
     "output_type": "execute_result",
     "data": {
      "text/plain": [
       "       player_id              name at_bats runs hits runs_batted_in  \\\n",
       "0      abreubr01       Bryan Abreu      no    3    5             no   \n",
       "1      adamswi02      Willie Adams      no   92  149             no   \n",
       "2      adenhni01     Nick Adenhart      no   12   25             no   \n",
       "3      adkinst01      Steve Adkins      no   18   19             no   \n",
       "4      ahearpa01       Pat Ahearne      no   13   20             no   \n",
       "...          ...               ...     ...  ...  ...            ...   \n",
       "18801  zimmejo01  Jordan Zimmerman       0    0    0              0   \n",
       "18802  zimmeky01       Kyle Zimmer       0    0    0              0   \n",
       "18803  zinsebi01       Bill Zinser       0    0    0              0   \n",
       "18804  zumayjo01       Joel Zumaya       0    0    0              0   \n",
       "18805   zychto01         Tony Zych       0    0    0              0   \n",
       "\n",
       "      bases_on_balls batting_average doubles triples home_runs stolen_bases  \\\n",
       "0                 10              no      no      no         0            1   \n",
       "1                 55              no      no      no        20           13   \n",
       "2                 16              no      no      no         0            0   \n",
       "3                 29              no      no      no         4            3   \n",
       "4                  5              no      no      no         2            1   \n",
       "...              ...             ...     ...     ...       ...          ...   \n",
       "18801              0              no       0       0         0            0   \n",
       "18802              0              no       0       0         0            0   \n",
       "18803              0              no       0       0         0            0   \n",
       "18804              0              no       0       0         0            0   \n",
       "18805              0              no       0       0         0            0   \n",
       "\n",
       "      hall_of_fame  \n",
       "0               no  \n",
       "1               no  \n",
       "2               no  \n",
       "3               no  \n",
       "4               no  \n",
       "...            ...  \n",
       "18801           no  \n",
       "18802           no  \n",
       "18803           no  \n",
       "18804           no  \n",
       "18805           no  \n",
       "\n",
       "[18806 rows x 13 columns]"
      ],
      "text/html": "<div>\n<style scoped>\n    .dataframe tbody tr th:only-of-type {\n        vertical-align: middle;\n    }\n\n    .dataframe tbody tr th {\n        vertical-align: top;\n    }\n\n    .dataframe thead th {\n        text-align: right;\n    }\n</style>\n<table border=\"1\" class=\"dataframe\">\n  <thead>\n    <tr style=\"text-align: right;\">\n      <th></th>\n      <th>player_id</th>\n      <th>name</th>\n      <th>at_bats</th>\n      <th>runs</th>\n      <th>hits</th>\n      <th>runs_batted_in</th>\n      <th>bases_on_balls</th>\n      <th>batting_average</th>\n      <th>doubles</th>\n      <th>triples</th>\n      <th>home_runs</th>\n      <th>stolen_bases</th>\n      <th>hall_of_fame</th>\n    </tr>\n  </thead>\n  <tbody>\n    <tr>\n      <th>0</th>\n      <td>abreubr01</td>\n      <td>Bryan Abreu</td>\n      <td>no</td>\n      <td>3</td>\n      <td>5</td>\n      <td>no</td>\n      <td>10</td>\n      <td>no</td>\n      <td>no</td>\n      <td>no</td>\n      <td>0</td>\n      <td>1</td>\n      <td>no</td>\n    </tr>\n    <tr>\n      <th>1</th>\n      <td>adamswi02</td>\n      <td>Willie Adams</td>\n      <td>no</td>\n      <td>92</td>\n      <td>149</td>\n      <td>no</td>\n      <td>55</td>\n      <td>no</td>\n      <td>no</td>\n      <td>no</td>\n      <td>20</td>\n      <td>13</td>\n      <td>no</td>\n    </tr>\n    <tr>\n      <th>2</th>\n      <td>adenhni01</td>\n      <td>Nick Adenhart</td>\n      <td>no</td>\n      <td>12</td>\n      <td>25</td>\n      <td>no</td>\n      <td>16</td>\n      <td>no</td>\n      <td>no</td>\n      <td>no</td>\n      <td>0</td>\n      <td>0</td>\n      <td>no</td>\n    </tr>\n    <tr>\n      <th>3</th>\n      <td>adkinst01</td>\n      <td>Steve Adkins</td>\n      <td>no</td>\n      <td>18</td>\n      <td>19</td>\n      <td>no</td>\n      <td>29</td>\n      <td>no</td>\n      <td>no</td>\n      <td>no</td>\n      <td>4</td>\n      <td>3</td>\n      <td>no</td>\n    </tr>\n    <tr>\n      <th>4</th>\n      <td>ahearpa01</td>\n      <td>Pat Ahearne</td>\n      <td>no</td>\n      <td>13</td>\n      <td>20</td>\n      <td>no</td>\n      <td>5</td>\n      <td>no</td>\n      <td>no</td>\n      <td>no</td>\n      <td>2</td>\n      <td>1</td>\n      <td>no</td>\n    </tr>\n    <tr>\n      <th>...</th>\n      <td>...</td>\n      <td>...</td>\n      <td>...</td>\n      <td>...</td>\n      <td>...</td>\n      <td>...</td>\n      <td>...</td>\n      <td>...</td>\n      <td>...</td>\n      <td>...</td>\n      <td>...</td>\n      <td>...</td>\n      <td>...</td>\n    </tr>\n    <tr>\n      <th>18801</th>\n      <td>zimmejo01</td>\n      <td>Jordan Zimmerman</td>\n      <td>0</td>\n      <td>0</td>\n      <td>0</td>\n      <td>0</td>\n      <td>0</td>\n      <td>no</td>\n      <td>0</td>\n      <td>0</td>\n      <td>0</td>\n      <td>0</td>\n      <td>no</td>\n    </tr>\n    <tr>\n      <th>18802</th>\n      <td>zimmeky01</td>\n      <td>Kyle Zimmer</td>\n      <td>0</td>\n      <td>0</td>\n      <td>0</td>\n      <td>0</td>\n      <td>0</td>\n      <td>no</td>\n      <td>0</td>\n      <td>0</td>\n      <td>0</td>\n      <td>0</td>\n      <td>no</td>\n    </tr>\n    <tr>\n      <th>18803</th>\n      <td>zinsebi01</td>\n      <td>Bill Zinser</td>\n      <td>0</td>\n      <td>0</td>\n      <td>0</td>\n      <td>0</td>\n      <td>0</td>\n      <td>no</td>\n      <td>0</td>\n      <td>0</td>\n      <td>0</td>\n      <td>0</td>\n      <td>no</td>\n    </tr>\n    <tr>\n      <th>18804</th>\n      <td>zumayjo01</td>\n      <td>Joel Zumaya</td>\n      <td>0</td>\n      <td>0</td>\n      <td>0</td>\n      <td>0</td>\n      <td>0</td>\n      <td>no</td>\n      <td>0</td>\n      <td>0</td>\n      <td>0</td>\n      <td>0</td>\n      <td>no</td>\n    </tr>\n    <tr>\n      <th>18805</th>\n      <td>zychto01</td>\n      <td>Tony Zych</td>\n      <td>0</td>\n      <td>0</td>\n      <td>0</td>\n      <td>0</td>\n      <td>0</td>\n      <td>no</td>\n      <td>0</td>\n      <td>0</td>\n      <td>0</td>\n      <td>0</td>\n      <td>no</td>\n    </tr>\n  </tbody>\n</table>\n<p>18806 rows × 13 columns</p>\n</div>"
     },
     "metadata": {},
     "execution_count": 2
    }
   ],
   "source": [
    "# pull in csv file and read into a pandas data frame\n",
    "players_df = pd.read_csv(\"Resources/player_data.csv\")\n",
    "players_df"
   ]
  },
  {
   "cell_type": "code",
   "execution_count": 3,
   "metadata": {},
   "outputs": [
    {
     "output_type": "execute_result",
     "data": {
      "text/plain": [
       "      player_id              name  at_bats  runs  hits runs_batted_in  \\\n",
       "750    rosepe01         Pete Rose  14053.0  2165  4256           1314   \n",
       "751   aaronha01       Henry Aaron  12364.0  2174  3771           2297   \n",
       "752   yastrca01  Carl Yastrzemski  11988.0  1816  3419           1844   \n",
       "753   ripkeca01    Cal Ripken Jr.  11551.0  1647  3184           1695   \n",
       "754    cobbty01           Ty Cobb  11440.0  2245  4189           1944   \n",
       "...         ...               ...      ...   ...   ...            ...   \n",
       "9567  raymocl01    Claude Raymond    101.0     6    11              8   \n",
       "9568  suthele01    Leo Sutherland    101.0    15    25              5   \n",
       "9569  tayloch02      Chuck Taylor    101.0     5    16             10   \n",
       "9570  tovarwi01    Wilfredo Tovar    101.0     6    19              7   \n",
       "9571  watsoma02       Matt Watson    101.0     6    19             11   \n",
       "\n",
       "     bases_on_balls batting_average doubles triples home_runs stolen_bases  \\\n",
       "750            1566           0.303     746     135       160          198   \n",
       "751            1402           0.305     624      98       755          240   \n",
       "752            1845           0.285     646      59       452          168   \n",
       "753            1129           0.276     603      44       431           36   \n",
       "754            1249           0.366     724     295       117          897   \n",
       "...             ...             ...     ...     ...       ...          ...   \n",
       "9567              3           0.109       4       0         0            0   \n",
       "9568              4           0.248       3       0         0            6   \n",
       "9569              3           0.158       4       1         0            0   \n",
       "9570              6           0.188       5       0         0            1   \n",
       "9571              6           0.188       7       0         1            0   \n",
       "\n",
       "     hall_of_fame  \n",
       "750            no  \n",
       "751            RF  \n",
       "752            LF  \n",
       "753            SS  \n",
       "754            CF  \n",
       "...           ...  \n",
       "9567           no  \n",
       "9568           no  \n",
       "9569           no  \n",
       "9570           no  \n",
       "9571           no  \n",
       "\n",
       "[8661 rows x 13 columns]"
      ],
      "text/html": "<div>\n<style scoped>\n    .dataframe tbody tr th:only-of-type {\n        vertical-align: middle;\n    }\n\n    .dataframe tbody tr th {\n        vertical-align: top;\n    }\n\n    .dataframe thead th {\n        text-align: right;\n    }\n</style>\n<table border=\"1\" class=\"dataframe\">\n  <thead>\n    <tr style=\"text-align: right;\">\n      <th></th>\n      <th>player_id</th>\n      <th>name</th>\n      <th>at_bats</th>\n      <th>runs</th>\n      <th>hits</th>\n      <th>runs_batted_in</th>\n      <th>bases_on_balls</th>\n      <th>batting_average</th>\n      <th>doubles</th>\n      <th>triples</th>\n      <th>home_runs</th>\n      <th>stolen_bases</th>\n      <th>hall_of_fame</th>\n    </tr>\n  </thead>\n  <tbody>\n    <tr>\n      <th>750</th>\n      <td>rosepe01</td>\n      <td>Pete Rose</td>\n      <td>14053.0</td>\n      <td>2165</td>\n      <td>4256</td>\n      <td>1314</td>\n      <td>1566</td>\n      <td>0.303</td>\n      <td>746</td>\n      <td>135</td>\n      <td>160</td>\n      <td>198</td>\n      <td>no</td>\n    </tr>\n    <tr>\n      <th>751</th>\n      <td>aaronha01</td>\n      <td>Henry Aaron</td>\n      <td>12364.0</td>\n      <td>2174</td>\n      <td>3771</td>\n      <td>2297</td>\n      <td>1402</td>\n      <td>0.305</td>\n      <td>624</td>\n      <td>98</td>\n      <td>755</td>\n      <td>240</td>\n      <td>RF</td>\n    </tr>\n    <tr>\n      <th>752</th>\n      <td>yastrca01</td>\n      <td>Carl Yastrzemski</td>\n      <td>11988.0</td>\n      <td>1816</td>\n      <td>3419</td>\n      <td>1844</td>\n      <td>1845</td>\n      <td>0.285</td>\n      <td>646</td>\n      <td>59</td>\n      <td>452</td>\n      <td>168</td>\n      <td>LF</td>\n    </tr>\n    <tr>\n      <th>753</th>\n      <td>ripkeca01</td>\n      <td>Cal Ripken Jr.</td>\n      <td>11551.0</td>\n      <td>1647</td>\n      <td>3184</td>\n      <td>1695</td>\n      <td>1129</td>\n      <td>0.276</td>\n      <td>603</td>\n      <td>44</td>\n      <td>431</td>\n      <td>36</td>\n      <td>SS</td>\n    </tr>\n    <tr>\n      <th>754</th>\n      <td>cobbty01</td>\n      <td>Ty Cobb</td>\n      <td>11440.0</td>\n      <td>2245</td>\n      <td>4189</td>\n      <td>1944</td>\n      <td>1249</td>\n      <td>0.366</td>\n      <td>724</td>\n      <td>295</td>\n      <td>117</td>\n      <td>897</td>\n      <td>CF</td>\n    </tr>\n    <tr>\n      <th>...</th>\n      <td>...</td>\n      <td>...</td>\n      <td>...</td>\n      <td>...</td>\n      <td>...</td>\n      <td>...</td>\n      <td>...</td>\n      <td>...</td>\n      <td>...</td>\n      <td>...</td>\n      <td>...</td>\n      <td>...</td>\n      <td>...</td>\n    </tr>\n    <tr>\n      <th>9567</th>\n      <td>raymocl01</td>\n      <td>Claude Raymond</td>\n      <td>101.0</td>\n      <td>6</td>\n      <td>11</td>\n      <td>8</td>\n      <td>3</td>\n      <td>0.109</td>\n      <td>4</td>\n      <td>0</td>\n      <td>0</td>\n      <td>0</td>\n      <td>no</td>\n    </tr>\n    <tr>\n      <th>9568</th>\n      <td>suthele01</td>\n      <td>Leo Sutherland</td>\n      <td>101.0</td>\n      <td>15</td>\n      <td>25</td>\n      <td>5</td>\n      <td>4</td>\n      <td>0.248</td>\n      <td>3</td>\n      <td>0</td>\n      <td>0</td>\n      <td>6</td>\n      <td>no</td>\n    </tr>\n    <tr>\n      <th>9569</th>\n      <td>tayloch02</td>\n      <td>Chuck Taylor</td>\n      <td>101.0</td>\n      <td>5</td>\n      <td>16</td>\n      <td>10</td>\n      <td>3</td>\n      <td>0.158</td>\n      <td>4</td>\n      <td>1</td>\n      <td>0</td>\n      <td>0</td>\n      <td>no</td>\n    </tr>\n    <tr>\n      <th>9570</th>\n      <td>tovarwi01</td>\n      <td>Wilfredo Tovar</td>\n      <td>101.0</td>\n      <td>6</td>\n      <td>19</td>\n      <td>7</td>\n      <td>6</td>\n      <td>0.188</td>\n      <td>5</td>\n      <td>0</td>\n      <td>0</td>\n      <td>1</td>\n      <td>no</td>\n    </tr>\n    <tr>\n      <th>9571</th>\n      <td>watsoma02</td>\n      <td>Matt Watson</td>\n      <td>101.0</td>\n      <td>6</td>\n      <td>19</td>\n      <td>11</td>\n      <td>6</td>\n      <td>0.188</td>\n      <td>7</td>\n      <td>0</td>\n      <td>1</td>\n      <td>0</td>\n      <td>no</td>\n    </tr>\n  </tbody>\n</table>\n<p>8661 rows × 13 columns</p>\n</div>"
     },
     "metadata": {},
     "execution_count": 3
    }
   ],
   "source": [
    "# clean up the data frame set minimum at bats to 100\n",
    "clean_df = players_df.loc[(players_df[\"stolen_bases\"] != 'no') & (players_df[\"batting_average\"] != 'no') & (players_df[\"hall_of_fame\"] != \"EXEC\") & (players_df[\"hall_of_fame\"] != \"EXEC/PIO\") & (players_df[\"hall_of_fame\"] != \"MGR\") & (players_df[\"hall_of_fame\"] != \"PIO\") & (players_df[\"hall_of_fame\"] != \"UMP\") & (players_df[\"hits\"] != \"0.0\")]\n",
    "\n",
    "dtype_change_df = clean_df.astype({\"at_bats\": \"float64\"})\n",
    "\n",
    "new_df = dtype_change_df.loc[dtype_change_df[\"at_bats\"] > 100]\n",
    "new_df"
   ]
  },
  {
   "cell_type": "code",
   "execution_count": 4,
   "metadata": {},
   "outputs": [
    {
     "output_type": "execute_result",
     "data": {
      "text/plain": [
       "      player_id              name  at_bats  runs  hits runs_batted_in  \\\n",
       "750    rosepe01         Pete Rose  14053.0  2165  4256           1314   \n",
       "751   aaronha01       Henry Aaron  12364.0  2174  3771           2297   \n",
       "752   yastrca01  Carl Yastrzemski  11988.0  1816  3419           1844   \n",
       "753   ripkeca01    Cal Ripken Jr.  11551.0  1647  3184           1695   \n",
       "754    cobbty01           Ty Cobb  11440.0  2245  4189           1944   \n",
       "...         ...               ...      ...   ...   ...            ...   \n",
       "9567  raymocl01    Claude Raymond    101.0     6    11              8   \n",
       "9568  suthele01    Leo Sutherland    101.0    15    25              5   \n",
       "9569  tayloch02      Chuck Taylor    101.0     5    16             10   \n",
       "9570  tovarwi01    Wilfredo Tovar    101.0     6    19              7   \n",
       "9571  watsoma02       Matt Watson    101.0     6    19             11   \n",
       "\n",
       "     bases_on_balls batting_average doubles triples home_runs stolen_bases  \\\n",
       "750            1566           0.303     746     135       160          198   \n",
       "751            1402           0.305     624      98       755          240   \n",
       "752            1845           0.285     646      59       452          168   \n",
       "753            1129           0.276     603      44       431           36   \n",
       "754            1249           0.366     724     295       117          897   \n",
       "...             ...             ...     ...     ...       ...          ...   \n",
       "9567              3           0.109       4       0         0            0   \n",
       "9568              4           0.248       3       0         0            6   \n",
       "9569              3           0.158       4       1         0            0   \n",
       "9570              6           0.188       5       0         0            1   \n",
       "9571              6           0.188       7       0         1            0   \n",
       "\n",
       "     hall_of_fame  \n",
       "750            no  \n",
       "751           yes  \n",
       "752           yes  \n",
       "753           yes  \n",
       "754           yes  \n",
       "...           ...  \n",
       "9567           no  \n",
       "9568           no  \n",
       "9569           no  \n",
       "9570           no  \n",
       "9571           no  \n",
       "\n",
       "[8661 rows x 13 columns]"
      ],
      "text/html": "<div>\n<style scoped>\n    .dataframe tbody tr th:only-of-type {\n        vertical-align: middle;\n    }\n\n    .dataframe tbody tr th {\n        vertical-align: top;\n    }\n\n    .dataframe thead th {\n        text-align: right;\n    }\n</style>\n<table border=\"1\" class=\"dataframe\">\n  <thead>\n    <tr style=\"text-align: right;\">\n      <th></th>\n      <th>player_id</th>\n      <th>name</th>\n      <th>at_bats</th>\n      <th>runs</th>\n      <th>hits</th>\n      <th>runs_batted_in</th>\n      <th>bases_on_balls</th>\n      <th>batting_average</th>\n      <th>doubles</th>\n      <th>triples</th>\n      <th>home_runs</th>\n      <th>stolen_bases</th>\n      <th>hall_of_fame</th>\n    </tr>\n  </thead>\n  <tbody>\n    <tr>\n      <th>750</th>\n      <td>rosepe01</td>\n      <td>Pete Rose</td>\n      <td>14053.0</td>\n      <td>2165</td>\n      <td>4256</td>\n      <td>1314</td>\n      <td>1566</td>\n      <td>0.303</td>\n      <td>746</td>\n      <td>135</td>\n      <td>160</td>\n      <td>198</td>\n      <td>no</td>\n    </tr>\n    <tr>\n      <th>751</th>\n      <td>aaronha01</td>\n      <td>Henry Aaron</td>\n      <td>12364.0</td>\n      <td>2174</td>\n      <td>3771</td>\n      <td>2297</td>\n      <td>1402</td>\n      <td>0.305</td>\n      <td>624</td>\n      <td>98</td>\n      <td>755</td>\n      <td>240</td>\n      <td>yes</td>\n    </tr>\n    <tr>\n      <th>752</th>\n      <td>yastrca01</td>\n      <td>Carl Yastrzemski</td>\n      <td>11988.0</td>\n      <td>1816</td>\n      <td>3419</td>\n      <td>1844</td>\n      <td>1845</td>\n      <td>0.285</td>\n      <td>646</td>\n      <td>59</td>\n      <td>452</td>\n      <td>168</td>\n      <td>yes</td>\n    </tr>\n    <tr>\n      <th>753</th>\n      <td>ripkeca01</td>\n      <td>Cal Ripken Jr.</td>\n      <td>11551.0</td>\n      <td>1647</td>\n      <td>3184</td>\n      <td>1695</td>\n      <td>1129</td>\n      <td>0.276</td>\n      <td>603</td>\n      <td>44</td>\n      <td>431</td>\n      <td>36</td>\n      <td>yes</td>\n    </tr>\n    <tr>\n      <th>754</th>\n      <td>cobbty01</td>\n      <td>Ty Cobb</td>\n      <td>11440.0</td>\n      <td>2245</td>\n      <td>4189</td>\n      <td>1944</td>\n      <td>1249</td>\n      <td>0.366</td>\n      <td>724</td>\n      <td>295</td>\n      <td>117</td>\n      <td>897</td>\n      <td>yes</td>\n    </tr>\n    <tr>\n      <th>...</th>\n      <td>...</td>\n      <td>...</td>\n      <td>...</td>\n      <td>...</td>\n      <td>...</td>\n      <td>...</td>\n      <td>...</td>\n      <td>...</td>\n      <td>...</td>\n      <td>...</td>\n      <td>...</td>\n      <td>...</td>\n      <td>...</td>\n    </tr>\n    <tr>\n      <th>9567</th>\n      <td>raymocl01</td>\n      <td>Claude Raymond</td>\n      <td>101.0</td>\n      <td>6</td>\n      <td>11</td>\n      <td>8</td>\n      <td>3</td>\n      <td>0.109</td>\n      <td>4</td>\n      <td>0</td>\n      <td>0</td>\n      <td>0</td>\n      <td>no</td>\n    </tr>\n    <tr>\n      <th>9568</th>\n      <td>suthele01</td>\n      <td>Leo Sutherland</td>\n      <td>101.0</td>\n      <td>15</td>\n      <td>25</td>\n      <td>5</td>\n      <td>4</td>\n      <td>0.248</td>\n      <td>3</td>\n      <td>0</td>\n      <td>0</td>\n      <td>6</td>\n      <td>no</td>\n    </tr>\n    <tr>\n      <th>9569</th>\n      <td>tayloch02</td>\n      <td>Chuck Taylor</td>\n      <td>101.0</td>\n      <td>5</td>\n      <td>16</td>\n      <td>10</td>\n      <td>3</td>\n      <td>0.158</td>\n      <td>4</td>\n      <td>1</td>\n      <td>0</td>\n      <td>0</td>\n      <td>no</td>\n    </tr>\n    <tr>\n      <th>9570</th>\n      <td>tovarwi01</td>\n      <td>Wilfredo Tovar</td>\n      <td>101.0</td>\n      <td>6</td>\n      <td>19</td>\n      <td>7</td>\n      <td>6</td>\n      <td>0.188</td>\n      <td>5</td>\n      <td>0</td>\n      <td>0</td>\n      <td>1</td>\n      <td>no</td>\n    </tr>\n    <tr>\n      <th>9571</th>\n      <td>watsoma02</td>\n      <td>Matt Watson</td>\n      <td>101.0</td>\n      <td>6</td>\n      <td>19</td>\n      <td>11</td>\n      <td>6</td>\n      <td>0.188</td>\n      <td>7</td>\n      <td>0</td>\n      <td>1</td>\n      <td>0</td>\n      <td>no</td>\n    </tr>\n  </tbody>\n</table>\n<p>8661 rows × 13 columns</p>\n</div>"
     },
     "metadata": {},
     "execution_count": 4
    }
   ],
   "source": [
    "# convert HOF column to yes/no format\n",
    "replaced_df = new_df.replace(to_replace=[\"P\", \"C\", \"1B\", \"2B\", \"3B\", \"SS\", \"LF\", \"CF\", \"RF\", \"DH\"], value=[\"yes\", \"yes\", \"yes\", \"yes\", \"yes\", \"yes\", \"yes\", \"yes\", \"yes\", \"yes\"])\n",
    "replaced_df.to_csv(\"Resources/player_data_update.csv\")\n",
    "replaced_df"
   ]
  },
  {
   "cell_type": "code",
   "execution_count": 5,
   "metadata": {},
   "outputs": [
    {
     "output_type": "stream",
     "name": "stdout",
     "text": [
      "(8661, 9) (8661,)\n"
     ]
    }
   ],
   "source": [
    "# Store x and y variables and print the shapes\n",
    "X = replaced_df[[\"at_bats\", \"runs\", \"hits\", \"runs_batted_in\",  \"bases_on_balls\", \"doubles\", \"triples\", \"home_runs\", \"stolen_bases\"]]\n",
    "\n",
    "y = replaced_df[\"hall_of_fame\"]\n",
    "print(X.shape, y.shape)"
   ]
  },
  {
   "cell_type": "code",
   "execution_count": 6,
   "metadata": {},
   "outputs": [],
   "source": [
    "# split data into train and test\n",
    "X_train, X_test, y_train, y_test = train_test_split(X, y)"
   ]
  },
  {
   "cell_type": "code",
   "execution_count": 7,
   "metadata": {},
   "outputs": [],
   "source": [
    "# scale the x/y variables\n",
    "X_scaler = MinMaxScaler().fit(X_train)\n",
    "X_train_scaled = X_scaler.transform(X_train)\n",
    "X_test_scaled = X_scaler.transform(X_test)"
   ]
  },
  {
   "cell_type": "code",
   "execution_count": 8,
   "metadata": {},
   "outputs": [],
   "source": [
    "# label encode the y variable \n",
    "label_encoder = LabelEncoder()\n",
    "label_encoder.fit(y_train)\n",
    "encoded_y_train = label_encoder.transform(y_train)\n",
    "encoded_y_test = label_encoder.transform(y_test)\n",
    "\n",
    "y_train_categorical = to_categorical(encoded_y_train)\n",
    "y_test_categorical = to_categorical(encoded_y_test)"
   ]
  },
  {
   "cell_type": "code",
   "execution_count": 9,
   "metadata": {},
   "outputs": [],
   "source": [
    "# create a sequential model\n",
    "model = Sequential()"
   ]
  },
  {
   "cell_type": "code",
   "execution_count": 10,
   "metadata": {},
   "outputs": [],
   "source": [
    "# add the first layer of neural network\n",
    "model.add(Dense(units=4, activation='relu', input_dim=9))"
   ]
  },
  {
   "cell_type": "code",
   "execution_count": 11,
   "metadata": {},
   "outputs": [],
   "source": [
    "# add the output layer\n",
    "model.add(Dense(units=2, activation='softmax'))"
   ]
  },
  {
   "cell_type": "code",
   "execution_count": 12,
   "metadata": {},
   "outputs": [],
   "source": [
    "# compile the model\n",
    "recall = tf.keras.metrics.Recall()\n",
    "precision = tf.keras.metrics.Precision()\n",
    "model.compile(optimizer='adam',\n",
    "              loss='categorical_crossentropy',\n",
    "              metrics=['accuracy', recall, precision])"
   ]
  },
  {
   "cell_type": "code",
   "execution_count": 13,
   "metadata": {},
   "outputs": [
    {
     "output_type": "stream",
     "name": "stdout",
     "text": [
      "Model: \"sequential\"\n_________________________________________________________________\nLayer (type)                 Output Shape              Param #   \n=================================================================\ndense (Dense)                (None, 4)                 40        \n_________________________________________________________________\ndense_1 (Dense)              (None, 2)                 10        \n=================================================================\nTotal params: 50\nTrainable params: 50\nNon-trainable params: 0\n_________________________________________________________________\n"
     ]
    }
   ],
   "source": [
    "# get the model summary before training\n",
    "model.summary()"
   ]
  },
  {
   "cell_type": "code",
   "execution_count": 14,
   "metadata": {
    "tags": []
   },
   "outputs": [
    {
     "output_type": "stream",
     "name": "stdout",
     "text": [
      "Train on 6495 samples\n",
      "Epoch 1/100\n",
      "6495/6495 - 4s - loss: 0.4348 - accuracy: 0.9729 - recall: 0.9729 - precision: 0.9729\n",
      "Epoch 2/100\n",
      "6495/6495 - 1s - loss: 0.2160 - accuracy: 0.9729 - recall: 0.9729 - precision: 0.9729\n",
      "Epoch 3/100\n",
      "6495/6495 - 1s - loss: 0.1539 - accuracy: 0.9729 - recall: 0.9729 - precision: 0.9729\n",
      "Epoch 4/100\n",
      "6495/6495 - 1s - loss: 0.1247 - accuracy: 0.9729 - recall: 0.9729 - precision: 0.9729\n",
      "Epoch 5/100\n",
      "6495/6495 - 1s - loss: 0.1080 - accuracy: 0.9729 - recall: 0.9729 - precision: 0.9729\n",
      "Epoch 6/100\n",
      "6495/6495 - 1s - loss: 0.0995 - accuracy: 0.9729 - recall: 0.9729 - precision: 0.9729\n",
      "Epoch 7/100\n",
      "6495/6495 - 1s - loss: 0.0950 - accuracy: 0.9729 - recall: 0.9729 - precision: 0.9729\n",
      "Epoch 8/100\n",
      "6495/6495 - 1s - loss: 0.0929 - accuracy: 0.9729 - recall: 0.9729 - precision: 0.9729\n",
      "Epoch 9/100\n",
      "6495/6495 - 1s - loss: 0.0918 - accuracy: 0.9729 - recall: 0.9729 - precision: 0.9729\n",
      "Epoch 10/100\n",
      "6495/6495 - 1s - loss: 0.0913 - accuracy: 0.9729 - recall: 0.9729 - precision: 0.9729\n",
      "Epoch 11/100\n",
      "6495/6495 - 1s - loss: 0.0908 - accuracy: 0.9729 - recall: 0.9729 - precision: 0.9729\n",
      "Epoch 12/100\n",
      "6495/6495 - 1s - loss: 0.0906 - accuracy: 0.9729 - recall: 0.9729 - precision: 0.9729\n",
      "Epoch 13/100\n",
      "6495/6495 - 1s - loss: 0.0903 - accuracy: 0.9729 - recall: 0.9729 - precision: 0.9729\n",
      "Epoch 14/100\n",
      "6495/6495 - 1s - loss: 0.0901 - accuracy: 0.9729 - recall: 0.9729 - precision: 0.9729\n",
      "Epoch 15/100\n",
      "6495/6495 - 1s - loss: 0.0898 - accuracy: 0.9729 - recall: 0.9729 - precision: 0.9729\n",
      "Epoch 16/100\n",
      "6495/6495 - 1s - loss: 0.0896 - accuracy: 0.9729 - recall: 0.9729 - precision: 0.9729\n",
      "Epoch 17/100\n",
      "6495/6495 - 1s - loss: 0.0895 - accuracy: 0.9729 - recall: 0.9729 - precision: 0.9729\n",
      "Epoch 18/100\n",
      "6495/6495 - 1s - loss: 0.0893 - accuracy: 0.9729 - recall: 0.9729 - precision: 0.9729\n",
      "Epoch 19/100\n",
      "6495/6495 - 1s - loss: 0.0891 - accuracy: 0.9729 - recall: 0.9729 - precision: 0.9729\n",
      "Epoch 20/100\n",
      "6495/6495 - 2s - loss: 0.0888 - accuracy: 0.9729 - recall: 0.9729 - precision: 0.9729\n",
      "Epoch 21/100\n",
      "6495/6495 - 1s - loss: 0.0888 - accuracy: 0.9729 - recall: 0.9729 - precision: 0.9729\n",
      "Epoch 22/100\n",
      "6495/6495 - 1s - loss: 0.0885 - accuracy: 0.9729 - recall: 0.9729 - precision: 0.9729\n",
      "Epoch 23/100\n",
      "6495/6495 - 1s - loss: 0.0884 - accuracy: 0.9729 - recall: 0.9729 - precision: 0.9729\n",
      "Epoch 24/100\n",
      "6495/6495 - 1s - loss: 0.0883 - accuracy: 0.9729 - recall: 0.9729 - precision: 0.9729\n",
      "Epoch 25/100\n",
      "6495/6495 - 3s - loss: 0.0881 - accuracy: 0.9729 - recall: 0.9729 - precision: 0.9729\n",
      "Epoch 26/100\n",
      "6495/6495 - 2s - loss: 0.0882 - accuracy: 0.9729 - recall: 0.9729 - precision: 0.9729\n",
      "Epoch 27/100\n",
      "6495/6495 - 2s - loss: 0.0879 - accuracy: 0.9729 - recall: 0.9729 - precision: 0.9729\n",
      "Epoch 28/100\n",
      "6495/6495 - 1s - loss: 0.0876 - accuracy: 0.9729 - recall: 0.9729 - precision: 0.9729\n",
      "Epoch 29/100\n",
      "6495/6495 - 1s - loss: 0.0877 - accuracy: 0.9729 - recall: 0.9729 - precision: 0.9729\n",
      "Epoch 30/100\n",
      "6495/6495 - 1s - loss: 0.0874 - accuracy: 0.9729 - recall: 0.9729 - precision: 0.9729\n",
      "Epoch 31/100\n",
      "6495/6495 - 1s - loss: 0.0874 - accuracy: 0.9729 - recall: 0.9729 - precision: 0.9729\n",
      "Epoch 32/100\n",
      "6495/6495 - 1s - loss: 0.0874 - accuracy: 0.9729 - recall: 0.9729 - precision: 0.9729\n",
      "Epoch 33/100\n",
      "6495/6495 - 1s - loss: 0.0872 - accuracy: 0.9747 - recall: 0.9747 - precision: 0.9747\n",
      "Epoch 34/100\n",
      "6495/6495 - 1s - loss: 0.0870 - accuracy: 0.9764 - recall: 0.9764 - precision: 0.9764\n",
      "Epoch 35/100\n",
      "6495/6495 - 1s - loss: 0.0869 - accuracy: 0.9758 - recall: 0.9758 - precision: 0.9758\n",
      "Epoch 36/100\n",
      "6495/6495 - 1s - loss: 0.0870 - accuracy: 0.9760 - recall: 0.9760 - precision: 0.9760\n",
      "Epoch 37/100\n",
      "6495/6495 - 1s - loss: 0.0868 - accuracy: 0.9761 - recall: 0.9761 - precision: 0.9761\n",
      "Epoch 38/100\n",
      "6495/6495 - 1s - loss: 0.0869 - accuracy: 0.9768 - recall: 0.9768 - precision: 0.9768\n",
      "Epoch 39/100\n",
      "6495/6495 - 1s - loss: 0.0866 - accuracy: 0.9766 - recall: 0.9766 - precision: 0.9766\n",
      "Epoch 40/100\n",
      "6495/6495 - 1s - loss: 0.0866 - accuracy: 0.9769 - recall: 0.9769 - precision: 0.9769\n",
      "Epoch 41/100\n",
      "6495/6495 - 1s - loss: 0.0865 - accuracy: 0.9768 - recall: 0.9768 - precision: 0.9768\n",
      "Epoch 42/100\n",
      "6495/6495 - 1s - loss: 0.0864 - accuracy: 0.9766 - recall: 0.9766 - precision: 0.9766\n",
      "Epoch 43/100\n",
      "6495/6495 - 1s - loss: 0.0863 - accuracy: 0.9769 - recall: 0.9769 - precision: 0.9769\n",
      "Epoch 44/100\n",
      "6495/6495 - 1s - loss: 0.0862 - accuracy: 0.9772 - recall: 0.9772 - precision: 0.9772\n",
      "Epoch 45/100\n",
      "6495/6495 - 1s - loss: 0.0862 - accuracy: 0.9769 - recall: 0.9769 - precision: 0.9769\n",
      "Epoch 46/100\n",
      "6495/6495 - 1s - loss: 0.0862 - accuracy: 0.9769 - recall: 0.9769 - precision: 0.9769\n",
      "Epoch 47/100\n",
      "6495/6495 - 1s - loss: 0.0861 - accuracy: 0.9769 - recall: 0.9769 - precision: 0.9769\n",
      "Epoch 48/100\n",
      "6495/6495 - 1s - loss: 0.0862 - accuracy: 0.9768 - recall: 0.9768 - precision: 0.9768\n",
      "Epoch 49/100\n",
      "6495/6495 - 1s - loss: 0.0859 - accuracy: 0.9774 - recall: 0.9774 - precision: 0.9774\n",
      "Epoch 50/100\n",
      "6495/6495 - 1s - loss: 0.0859 - accuracy: 0.9769 - recall: 0.9769 - precision: 0.9769\n",
      "Epoch 51/100\n",
      "6495/6495 - 2s - loss: 0.0860 - accuracy: 0.9771 - recall: 0.9771 - precision: 0.9771\n",
      "Epoch 52/100\n",
      "6495/6495 - 1s - loss: 0.0858 - accuracy: 0.9775 - recall: 0.9775 - precision: 0.9775\n",
      "Epoch 53/100\n",
      "6495/6495 - 1s - loss: 0.0858 - accuracy: 0.9769 - recall: 0.9769 - precision: 0.9769\n",
      "Epoch 54/100\n",
      "6495/6495 - 1s - loss: 0.0859 - accuracy: 0.9774 - recall: 0.9774 - precision: 0.9774\n",
      "Epoch 55/100\n",
      "6495/6495 - 2s - loss: 0.0859 - accuracy: 0.9768 - recall: 0.9768 - precision: 0.9768\n",
      "Epoch 56/100\n",
      "6495/6495 - 2s - loss: 0.0857 - accuracy: 0.9772 - recall: 0.9772 - precision: 0.9772\n",
      "Epoch 57/100\n",
      "6495/6495 - 1s - loss: 0.0856 - accuracy: 0.9774 - recall: 0.9774 - precision: 0.9774\n",
      "Epoch 58/100\n",
      "6495/6495 - 1s - loss: 0.0855 - accuracy: 0.9775 - recall: 0.9775 - precision: 0.9775\n",
      "Epoch 59/100\n",
      "6495/6495 - 1s - loss: 0.0856 - accuracy: 0.9777 - recall: 0.9777 - precision: 0.9777\n",
      "Epoch 60/100\n",
      "6495/6495 - 1s - loss: 0.0855 - accuracy: 0.9771 - recall: 0.9771 - precision: 0.9771\n",
      "Epoch 61/100\n",
      "6495/6495 - 1s - loss: 0.0854 - accuracy: 0.9769 - recall: 0.9769 - precision: 0.9769\n",
      "Epoch 62/100\n",
      "6495/6495 - 1s - loss: 0.0854 - accuracy: 0.9769 - recall: 0.9769 - precision: 0.9769\n",
      "Epoch 63/100\n",
      "6495/6495 - 2s - loss: 0.0853 - accuracy: 0.9769 - recall: 0.9769 - precision: 0.9769\n",
      "Epoch 64/100\n",
      "6495/6495 - 1s - loss: 0.0854 - accuracy: 0.9772 - recall: 0.9772 - precision: 0.9772\n",
      "Epoch 65/100\n",
      "6495/6495 - 1s - loss: 0.0853 - accuracy: 0.9772 - recall: 0.9772 - precision: 0.9772\n",
      "Epoch 66/100\n",
      "6495/6495 - 1s - loss: 0.0853 - accuracy: 0.9777 - recall: 0.9777 - precision: 0.9777\n",
      "Epoch 67/100\n",
      "6495/6495 - 2s - loss: 0.0854 - accuracy: 0.9772 - recall: 0.9772 - precision: 0.9772\n",
      "Epoch 68/100\n",
      "6495/6495 - 1s - loss: 0.0854 - accuracy: 0.9768 - recall: 0.9768 - precision: 0.9768\n",
      "Epoch 69/100\n",
      "6495/6495 - 1s - loss: 0.0851 - accuracy: 0.9780 - recall: 0.9780 - precision: 0.9780\n",
      "Epoch 70/100\n",
      "6495/6495 - 1s - loss: 0.0851 - accuracy: 0.9780 - recall: 0.9780 - precision: 0.9780\n",
      "Epoch 71/100\n",
      "6495/6495 - 2s - loss: 0.0851 - accuracy: 0.9777 - recall: 0.9777 - precision: 0.9777\n",
      "Epoch 72/100\n",
      "6495/6495 - 1s - loss: 0.0852 - accuracy: 0.9778 - recall: 0.9778 - precision: 0.9778\n",
      "Epoch 73/100\n",
      "6495/6495 - 1s - loss: 0.0851 - accuracy: 0.9777 - recall: 0.9777 - precision: 0.9777\n",
      "Epoch 74/100\n",
      "6495/6495 - 1s - loss: 0.0851 - accuracy: 0.9775 - recall: 0.9775 - precision: 0.9775\n",
      "Epoch 75/100\n",
      "6495/6495 - 2s - loss: 0.0853 - accuracy: 0.9774 - recall: 0.9774 - precision: 0.9774\n",
      "Epoch 76/100\n",
      "6495/6495 - 1s - loss: 0.0849 - accuracy: 0.9780 - recall: 0.9780 - precision: 0.9780\n",
      "Epoch 77/100\n",
      "6495/6495 - 1s - loss: 0.0851 - accuracy: 0.9774 - recall: 0.9774 - precision: 0.9774\n",
      "Epoch 78/100\n",
      "6495/6495 - 2s - loss: 0.0851 - accuracy: 0.9772 - recall: 0.9772 - precision: 0.9772\n",
      "Epoch 79/100\n",
      "6495/6495 - 2s - loss: 0.0851 - accuracy: 0.9771 - recall: 0.9771 - precision: 0.9771\n",
      "Epoch 80/100\n",
      "6495/6495 - 1s - loss: 0.0848 - accuracy: 0.9777 - recall: 0.9777 - precision: 0.9777\n",
      "Epoch 81/100\n",
      "6495/6495 - 3s - loss: 0.0850 - accuracy: 0.9774 - recall: 0.9774 - precision: 0.9774\n",
      "Epoch 82/100\n",
      "6495/6495 - 3s - loss: 0.0850 - accuracy: 0.9774 - recall: 0.9774 - precision: 0.9774\n",
      "Epoch 83/100\n",
      "6495/6495 - 1s - loss: 0.0850 - accuracy: 0.9780 - recall: 0.9780 - precision: 0.9780\n",
      "Epoch 84/100\n",
      "6495/6495 - 2s - loss: 0.0850 - accuracy: 0.9775 - recall: 0.9775 - precision: 0.9775\n",
      "Epoch 85/100\n",
      "6495/6495 - 2s - loss: 0.0850 - accuracy: 0.9777 - recall: 0.9777 - precision: 0.9777\n",
      "Epoch 86/100\n",
      "6495/6495 - 1s - loss: 0.0849 - accuracy: 0.9777 - recall: 0.9777 - precision: 0.9777\n",
      "Epoch 87/100\n",
      "6495/6495 - 2s - loss: 0.0849 - accuracy: 0.9772 - recall: 0.9772 - precision: 0.9772\n",
      "Epoch 88/100\n",
      "6495/6495 - 2s - loss: 0.0848 - accuracy: 0.9771 - recall: 0.9771 - precision: 0.9771\n",
      "Epoch 89/100\n",
      "6495/6495 - 1s - loss: 0.0846 - accuracy: 0.9774 - recall: 0.9774 - precision: 0.9774\n",
      "Epoch 90/100\n",
      "6495/6495 - 2s - loss: 0.0849 - accuracy: 0.9780 - recall: 0.9780 - precision: 0.9780\n",
      "Epoch 91/100\n",
      "6495/6495 - 1s - loss: 0.0847 - accuracy: 0.9777 - recall: 0.9777 - precision: 0.9777\n",
      "Epoch 92/100\n",
      "6495/6495 - 1s - loss: 0.0848 - accuracy: 0.9775 - recall: 0.9775 - precision: 0.9775\n",
      "Epoch 93/100\n",
      "6495/6495 - 2s - loss: 0.0848 - accuracy: 0.9780 - recall: 0.9780 - precision: 0.9780\n",
      "Epoch 94/100\n",
      "6495/6495 - 1s - loss: 0.0847 - accuracy: 0.9775 - recall: 0.9775 - precision: 0.9775\n",
      "Epoch 95/100\n",
      "6495/6495 - 1s - loss: 0.0848 - accuracy: 0.9775 - recall: 0.9775 - precision: 0.9775\n",
      "Epoch 96/100\n",
      "6495/6495 - 1s - loss: 0.0846 - accuracy: 0.9774 - recall: 0.9774 - precision: 0.9774\n",
      "Epoch 97/100\n",
      "6495/6495 - 2s - loss: 0.0848 - accuracy: 0.9778 - recall: 0.9778 - precision: 0.9778\n",
      "Epoch 98/100\n",
      "6495/6495 - 1s - loss: 0.0847 - accuracy: 0.9778 - recall: 0.9778 - precision: 0.9778\n",
      "Epoch 99/100\n",
      "6495/6495 - 1s - loss: 0.0847 - accuracy: 0.9777 - recall: 0.9777 - precision: 0.9777\n",
      "Epoch 100/100\n",
      "6495/6495 - 1s - loss: 0.0847 - accuracy: 0.9778 - recall: 0.9778 - precision: 0.9778\n"
     ]
    },
    {
     "output_type": "execute_result",
     "data": {
      "text/plain": [
       "<tensorflow.python.keras.callbacks.History at 0x7fd70466b9b0>"
      ]
     },
     "metadata": {},
     "execution_count": 14
    }
   ],
   "source": [
    "# Fit (train) the model\n",
    "model.fit(\n",
    "    X_train_scaled,\n",
    "    y_train_categorical,\n",
    "    epochs=100,\n",
    "    shuffle=True,\n",
    "    verbose=2\n",
    ")"
   ]
  },
  {
   "cell_type": "code",
   "execution_count": 15,
   "metadata": {},
   "outputs": [
    {
     "output_type": "stream",
     "name": "stdout",
     "text": [
      "2166/1 - 2s - loss: 0.0542 - accuracy: 0.9788 - recall: 0.9788 - precision: 0.9788\n",
      "Normal Neural Network - LOSS: 0.087, ACCURACY: 0.9789999723434448, RECALL: 0.9789999723434448, PRECISION: 0.9789999723434448\n"
     ]
    }
   ],
   "source": [
    "# evaluate the model \n",
    "model_loss, model_accuracy, model_recall, model_precision = model.evaluate(\n",
    "    X_test_scaled, y_test_categorical, verbose=2)\n",
    "print(\n",
    "    f\"Normal Neural Network - LOSS: {round(model_loss, 3)}, ACCURACY: {round(model_accuracy, 3)}, RECALL: {round(model_recall, 3)}, PRECISION: {round(model_precision, 3)}\")"
   ]
  },
  {
   "cell_type": "code",
   "execution_count": null,
   "metadata": {},
   "outputs": [],
   "source": [
    "# test the model using a sample player\n",
    "player_predict = model.predict(replaced_df.loc[replaced_df[\"name\"] == \"Babe Ruth\", [\"at_bats\", \"runs\", \"hits\", \"runs_batted_in\",  \"bases_on_balls\", \"doubles\", \"triples\", \"home_runs\", \"stolen_bases\"]])\n",
    "player_predict"
   ]
  },
  {
   "cell_type": "code",
   "execution_count": null,
   "metadata": {},
   "outputs": [],
   "source": []
  }
 ]
}