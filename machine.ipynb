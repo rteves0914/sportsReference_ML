{
 "metadata": {
  "language_info": {
   "codemirror_mode": {
    "name": "ipython",
    "version": 3
   },
   "file_extension": ".py",
   "mimetype": "text/x-python",
   "name": "python",
   "nbconvert_exporter": "python",
   "pygments_lexer": "ipython3",
   "version": "3.6.10"
  },
  "orig_nbformat": 2,
  "kernelspec": {
   "name": "python3",
   "display_name": "Python 3.6.10 64-bit ('dviz_ml': conda)",
   "metadata": {
    "interpreter": {
     "hash": "d8bdc1690a5f193a41d219383ea2ab698846f58b278263fa8c6c95547fccbf49"
    }
   }
  }
 },
 "nbformat": 4,
 "nbformat_minor": 2,
 "cells": [
  {
   "cell_type": "code",
   "execution_count": 1,
   "metadata": {},
   "outputs": [],
   "source": [
    "# import dependencies here\n",
    "import pandas as pd\n",
    "import matplotlib.pyplot as plt\n",
    "import tensorflow as tf\n",
    "\n",
    "from sklearn.model_selection import train_test_split\n",
    "from sklearn.preprocessing import LabelEncoder, MinMaxScaler\n",
    "\n",
    "from tensorflow.keras.utils import to_categorical\n",
    "from tensorflow.keras.models import Sequential\n",
    "from tensorflow.keras.layers import Dense"
   ]
  },
  {
   "cell_type": "code",
   "execution_count": 2,
   "metadata": {},
   "outputs": [
    {
     "output_type": "execute_result",
     "data": {
      "text/plain": [
       "       player_id             name at_bats    runs    hits runs_batted_in  \\\n",
       "1      aaronha01      Henry Aaron   12364  2174.0  3771.0           2297   \n",
       "2      aaronto01     Tommie Aaron     944   102.0   216.0             94   \n",
       "4       abadan01        Andy Abad      21     1.0     2.0              0   \n",
       "5       abadfe01    Fernando Abad       9     0.0     1.0              0   \n",
       "6      abbated01   Ed Abbaticchio    3044   355.0   772.0            324   \n",
       "...          ...              ...     ...     ...     ...            ...   \n",
       "18800  zupcibo01       Bob Zupcic     795    99.0   199.0             80   \n",
       "18801   zupofr01       Frank Zupo      18     3.0     3.0              0   \n",
       "18802  zuvelpa01     Paul Zuvella     491    41.0   109.0             20   \n",
       "18803  zuverge01  George Zuverink   142.0     5.0    21.0            7.0   \n",
       "18804  zwilldu01   Dutch Zwilling    1280   167.0   364.0            202   \n",
       "\n",
       "      bases_on_balls batting_average doubles triples home_runs stolen_bases  \\\n",
       "1             1402.0           0.305     624      98     755.0          240   \n",
       "2               86.0           0.229      42       6      13.0            9   \n",
       "4                4.0           0.095       0       0       0.0            0   \n",
       "5                0.0           0.111       0       0       0.0            0   \n",
       "6              289.0           0.254      99      43      11.0          142   \n",
       "...              ...             ...     ...     ...       ...          ...   \n",
       "18800           57.0            0.25      47       4       7.0            7   \n",
       "18801            2.0           0.167       1       0       0.0            0   \n",
       "18802           34.0           0.222      17       2       2.0            2   \n",
       "18803            9.0           0.148     2.0     1.0       0.0          0.0   \n",
       "18804          128.0           0.284      76      15      30.0           46   \n",
       "\n",
       "      hall_of_fame  \n",
       "1               no  \n",
       "2               no  \n",
       "4               no  \n",
       "5               no  \n",
       "6               no  \n",
       "...            ...  \n",
       "18800           no  \n",
       "18801           no  \n",
       "18802           no  \n",
       "18803           no  \n",
       "18804           no  \n",
       "\n",
       "[13978 rows x 13 columns]"
      ],
      "text/html": "<div>\n<style scoped>\n    .dataframe tbody tr th:only-of-type {\n        vertical-align: middle;\n    }\n\n    .dataframe tbody tr th {\n        vertical-align: top;\n    }\n\n    .dataframe thead th {\n        text-align: right;\n    }\n</style>\n<table border=\"1\" class=\"dataframe\">\n  <thead>\n    <tr style=\"text-align: right;\">\n      <th></th>\n      <th>player_id</th>\n      <th>name</th>\n      <th>at_bats</th>\n      <th>runs</th>\n      <th>hits</th>\n      <th>runs_batted_in</th>\n      <th>bases_on_balls</th>\n      <th>batting_average</th>\n      <th>doubles</th>\n      <th>triples</th>\n      <th>home_runs</th>\n      <th>stolen_bases</th>\n      <th>hall_of_fame</th>\n    </tr>\n  </thead>\n  <tbody>\n    <tr>\n      <th>1</th>\n      <td>aaronha01</td>\n      <td>Henry Aaron</td>\n      <td>12364</td>\n      <td>2174.0</td>\n      <td>3771.0</td>\n      <td>2297</td>\n      <td>1402.0</td>\n      <td>0.305</td>\n      <td>624</td>\n      <td>98</td>\n      <td>755.0</td>\n      <td>240</td>\n      <td>no</td>\n    </tr>\n    <tr>\n      <th>2</th>\n      <td>aaronto01</td>\n      <td>Tommie Aaron</td>\n      <td>944</td>\n      <td>102.0</td>\n      <td>216.0</td>\n      <td>94</td>\n      <td>86.0</td>\n      <td>0.229</td>\n      <td>42</td>\n      <td>6</td>\n      <td>13.0</td>\n      <td>9</td>\n      <td>no</td>\n    </tr>\n    <tr>\n      <th>4</th>\n      <td>abadan01</td>\n      <td>Andy Abad</td>\n      <td>21</td>\n      <td>1.0</td>\n      <td>2.0</td>\n      <td>0</td>\n      <td>4.0</td>\n      <td>0.095</td>\n      <td>0</td>\n      <td>0</td>\n      <td>0.0</td>\n      <td>0</td>\n      <td>no</td>\n    </tr>\n    <tr>\n      <th>5</th>\n      <td>abadfe01</td>\n      <td>Fernando Abad</td>\n      <td>9</td>\n      <td>0.0</td>\n      <td>1.0</td>\n      <td>0</td>\n      <td>0.0</td>\n      <td>0.111</td>\n      <td>0</td>\n      <td>0</td>\n      <td>0.0</td>\n      <td>0</td>\n      <td>no</td>\n    </tr>\n    <tr>\n      <th>6</th>\n      <td>abbated01</td>\n      <td>Ed Abbaticchio</td>\n      <td>3044</td>\n      <td>355.0</td>\n      <td>772.0</td>\n      <td>324</td>\n      <td>289.0</td>\n      <td>0.254</td>\n      <td>99</td>\n      <td>43</td>\n      <td>11.0</td>\n      <td>142</td>\n      <td>no</td>\n    </tr>\n    <tr>\n      <th>...</th>\n      <td>...</td>\n      <td>...</td>\n      <td>...</td>\n      <td>...</td>\n      <td>...</td>\n      <td>...</td>\n      <td>...</td>\n      <td>...</td>\n      <td>...</td>\n      <td>...</td>\n      <td>...</td>\n      <td>...</td>\n      <td>...</td>\n    </tr>\n    <tr>\n      <th>18800</th>\n      <td>zupcibo01</td>\n      <td>Bob Zupcic</td>\n      <td>795</td>\n      <td>99.0</td>\n      <td>199.0</td>\n      <td>80</td>\n      <td>57.0</td>\n      <td>0.25</td>\n      <td>47</td>\n      <td>4</td>\n      <td>7.0</td>\n      <td>7</td>\n      <td>no</td>\n    </tr>\n    <tr>\n      <th>18801</th>\n      <td>zupofr01</td>\n      <td>Frank Zupo</td>\n      <td>18</td>\n      <td>3.0</td>\n      <td>3.0</td>\n      <td>0</td>\n      <td>2.0</td>\n      <td>0.167</td>\n      <td>1</td>\n      <td>0</td>\n      <td>0.0</td>\n      <td>0</td>\n      <td>no</td>\n    </tr>\n    <tr>\n      <th>18802</th>\n      <td>zuvelpa01</td>\n      <td>Paul Zuvella</td>\n      <td>491</td>\n      <td>41.0</td>\n      <td>109.0</td>\n      <td>20</td>\n      <td>34.0</td>\n      <td>0.222</td>\n      <td>17</td>\n      <td>2</td>\n      <td>2.0</td>\n      <td>2</td>\n      <td>no</td>\n    </tr>\n    <tr>\n      <th>18803</th>\n      <td>zuverge01</td>\n      <td>George Zuverink</td>\n      <td>142.0</td>\n      <td>5.0</td>\n      <td>21.0</td>\n      <td>7.0</td>\n      <td>9.0</td>\n      <td>0.148</td>\n      <td>2.0</td>\n      <td>1.0</td>\n      <td>0.0</td>\n      <td>0.0</td>\n      <td>no</td>\n    </tr>\n    <tr>\n      <th>18804</th>\n      <td>zwilldu01</td>\n      <td>Dutch Zwilling</td>\n      <td>1280</td>\n      <td>167.0</td>\n      <td>364.0</td>\n      <td>202</td>\n      <td>128.0</td>\n      <td>0.284</td>\n      <td>76</td>\n      <td>15</td>\n      <td>30.0</td>\n      <td>46</td>\n      <td>no</td>\n    </tr>\n  </tbody>\n</table>\n<p>13978 rows × 13 columns</p>\n</div>"
     },
     "metadata": {},
     "execution_count": 2
    }
   ],
   "source": [
    "# pull in csv file and read into a pandas data frame and clean data frame\n",
    "players_df = pd.read_csv(\"Resources/player_data.csv\")\n",
    "\n",
    "clean_df = players_df.loc[(players_df[\"stolen_bases\"] != 'no') & (players_df[\"batting_average\"] != 'no') & (players_df[\"hall_of_fame\"] != \"EXEC\") & (players_df[\"hall_of_fame\"] != \"EXEC/PIO\") & (players_df[\"hall_of_fame\"] != \"MGR\") & (players_df[\"hall_of_fame\"] != \"PIO\") & (players_df[\"hall_of_fame\"] != \"UMP\") & (players_df[\"hits\"] != \"0.0\")]\n",
    "\n",
    "clean_df"
   ]
  },
  {
   "cell_type": "code",
   "execution_count": 3,
   "metadata": {},
   "outputs": [
    {
     "output_type": "execute_result",
     "data": {
      "text/plain": [
       "       player_id             name at_bats    runs    hits runs_batted_in  \\\n",
       "1      aaronha01      Henry Aaron   12364  2174.0  3771.0           2297   \n",
       "2      aaronto01     Tommie Aaron     944   102.0   216.0             94   \n",
       "4       abadan01        Andy Abad      21     1.0     2.0              0   \n",
       "5       abadfe01    Fernando Abad       9     0.0     1.0              0   \n",
       "6      abbated01   Ed Abbaticchio    3044   355.0   772.0            324   \n",
       "...          ...              ...     ...     ...     ...            ...   \n",
       "18800  zupcibo01       Bob Zupcic     795    99.0   199.0             80   \n",
       "18801   zupofr01       Frank Zupo      18     3.0     3.0              0   \n",
       "18802  zuvelpa01     Paul Zuvella     491    41.0   109.0             20   \n",
       "18803  zuverge01  George Zuverink   142.0     5.0    21.0            7.0   \n",
       "18804  zwilldu01   Dutch Zwilling    1280   167.0   364.0            202   \n",
       "\n",
       "      bases_on_balls batting_average doubles triples home_runs stolen_bases  \\\n",
       "1             1402.0           0.305     624      98     755.0          240   \n",
       "2               86.0           0.229      42       6      13.0            9   \n",
       "4                4.0           0.095       0       0       0.0            0   \n",
       "5                0.0           0.111       0       0       0.0            0   \n",
       "6              289.0           0.254      99      43      11.0          142   \n",
       "...              ...             ...     ...     ...       ...          ...   \n",
       "18800           57.0            0.25      47       4       7.0            7   \n",
       "18801            2.0           0.167       1       0       0.0            0   \n",
       "18802           34.0           0.222      17       2       2.0            2   \n",
       "18803            9.0           0.148     2.0     1.0       0.0          0.0   \n",
       "18804          128.0           0.284      76      15      30.0           46   \n",
       "\n",
       "      hall_of_fame  \n",
       "1               no  \n",
       "2               no  \n",
       "4               no  \n",
       "5               no  \n",
       "6               no  \n",
       "...            ...  \n",
       "18800           no  \n",
       "18801           no  \n",
       "18802           no  \n",
       "18803           no  \n",
       "18804           no  \n",
       "\n",
       "[13978 rows x 13 columns]"
      ],
      "text/html": "<div>\n<style scoped>\n    .dataframe tbody tr th:only-of-type {\n        vertical-align: middle;\n    }\n\n    .dataframe tbody tr th {\n        vertical-align: top;\n    }\n\n    .dataframe thead th {\n        text-align: right;\n    }\n</style>\n<table border=\"1\" class=\"dataframe\">\n  <thead>\n    <tr style=\"text-align: right;\">\n      <th></th>\n      <th>player_id</th>\n      <th>name</th>\n      <th>at_bats</th>\n      <th>runs</th>\n      <th>hits</th>\n      <th>runs_batted_in</th>\n      <th>bases_on_balls</th>\n      <th>batting_average</th>\n      <th>doubles</th>\n      <th>triples</th>\n      <th>home_runs</th>\n      <th>stolen_bases</th>\n      <th>hall_of_fame</th>\n    </tr>\n  </thead>\n  <tbody>\n    <tr>\n      <th>1</th>\n      <td>aaronha01</td>\n      <td>Henry Aaron</td>\n      <td>12364</td>\n      <td>2174.0</td>\n      <td>3771.0</td>\n      <td>2297</td>\n      <td>1402.0</td>\n      <td>0.305</td>\n      <td>624</td>\n      <td>98</td>\n      <td>755.0</td>\n      <td>240</td>\n      <td>no</td>\n    </tr>\n    <tr>\n      <th>2</th>\n      <td>aaronto01</td>\n      <td>Tommie Aaron</td>\n      <td>944</td>\n      <td>102.0</td>\n      <td>216.0</td>\n      <td>94</td>\n      <td>86.0</td>\n      <td>0.229</td>\n      <td>42</td>\n      <td>6</td>\n      <td>13.0</td>\n      <td>9</td>\n      <td>no</td>\n    </tr>\n    <tr>\n      <th>4</th>\n      <td>abadan01</td>\n      <td>Andy Abad</td>\n      <td>21</td>\n      <td>1.0</td>\n      <td>2.0</td>\n      <td>0</td>\n      <td>4.0</td>\n      <td>0.095</td>\n      <td>0</td>\n      <td>0</td>\n      <td>0.0</td>\n      <td>0</td>\n      <td>no</td>\n    </tr>\n    <tr>\n      <th>5</th>\n      <td>abadfe01</td>\n      <td>Fernando Abad</td>\n      <td>9</td>\n      <td>0.0</td>\n      <td>1.0</td>\n      <td>0</td>\n      <td>0.0</td>\n      <td>0.111</td>\n      <td>0</td>\n      <td>0</td>\n      <td>0.0</td>\n      <td>0</td>\n      <td>no</td>\n    </tr>\n    <tr>\n      <th>6</th>\n      <td>abbated01</td>\n      <td>Ed Abbaticchio</td>\n      <td>3044</td>\n      <td>355.0</td>\n      <td>772.0</td>\n      <td>324</td>\n      <td>289.0</td>\n      <td>0.254</td>\n      <td>99</td>\n      <td>43</td>\n      <td>11.0</td>\n      <td>142</td>\n      <td>no</td>\n    </tr>\n    <tr>\n      <th>...</th>\n      <td>...</td>\n      <td>...</td>\n      <td>...</td>\n      <td>...</td>\n      <td>...</td>\n      <td>...</td>\n      <td>...</td>\n      <td>...</td>\n      <td>...</td>\n      <td>...</td>\n      <td>...</td>\n      <td>...</td>\n      <td>...</td>\n    </tr>\n    <tr>\n      <th>18800</th>\n      <td>zupcibo01</td>\n      <td>Bob Zupcic</td>\n      <td>795</td>\n      <td>99.0</td>\n      <td>199.0</td>\n      <td>80</td>\n      <td>57.0</td>\n      <td>0.25</td>\n      <td>47</td>\n      <td>4</td>\n      <td>7.0</td>\n      <td>7</td>\n      <td>no</td>\n    </tr>\n    <tr>\n      <th>18801</th>\n      <td>zupofr01</td>\n      <td>Frank Zupo</td>\n      <td>18</td>\n      <td>3.0</td>\n      <td>3.0</td>\n      <td>0</td>\n      <td>2.0</td>\n      <td>0.167</td>\n      <td>1</td>\n      <td>0</td>\n      <td>0.0</td>\n      <td>0</td>\n      <td>no</td>\n    </tr>\n    <tr>\n      <th>18802</th>\n      <td>zuvelpa01</td>\n      <td>Paul Zuvella</td>\n      <td>491</td>\n      <td>41.0</td>\n      <td>109.0</td>\n      <td>20</td>\n      <td>34.0</td>\n      <td>0.222</td>\n      <td>17</td>\n      <td>2</td>\n      <td>2.0</td>\n      <td>2</td>\n      <td>no</td>\n    </tr>\n    <tr>\n      <th>18803</th>\n      <td>zuverge01</td>\n      <td>George Zuverink</td>\n      <td>142.0</td>\n      <td>5.0</td>\n      <td>21.0</td>\n      <td>7.0</td>\n      <td>9.0</td>\n      <td>0.148</td>\n      <td>2.0</td>\n      <td>1.0</td>\n      <td>0.0</td>\n      <td>0.0</td>\n      <td>no</td>\n    </tr>\n    <tr>\n      <th>18804</th>\n      <td>zwilldu01</td>\n      <td>Dutch Zwilling</td>\n      <td>1280</td>\n      <td>167.0</td>\n      <td>364.0</td>\n      <td>202</td>\n      <td>128.0</td>\n      <td>0.284</td>\n      <td>76</td>\n      <td>15</td>\n      <td>30.0</td>\n      <td>46</td>\n      <td>no</td>\n    </tr>\n  </tbody>\n</table>\n<p>13978 rows × 13 columns</p>\n</div>"
     },
     "metadata": {},
     "execution_count": 3
    }
   ],
   "source": [
    "# convert HOF column to yes/no format\n",
    "replaced_df = clean_df.replace(to_replace=[\"P\", \"C\", \"1B\", \"2B\", \"3B\", \"SS\", \"LF\", \"CF\", \"RF\", \"DH\"], value=[\"yes\", \"yes\", \"yes\", \"yes\", \"yes\", \"yes\", \"yes\", \"yes\", \"yes\", \"yes\"])\n",
    "replaced_df"
   ]
  },
  {
   "cell_type": "code",
   "execution_count": 4,
   "metadata": {},
   "outputs": [
    {
     "output_type": "stream",
     "name": "stdout",
     "text": [
      "(13978, 9) (13978,)\n"
     ]
    }
   ],
   "source": [
    "# Store x and y variables and print the shapes\n",
    "X = replaced_df[[\"at_bats\", \"runs\", \"hits\", \"runs_batted_in\",  \"bases_on_balls\", \"doubles\", \"triples\", \"home_runs\", \"stolen_bases\"]]\n",
    "\n",
    "y = replaced_df[\"hall_of_fame\"]\n",
    "print(X.shape, y.shape)"
   ]
  },
  {
   "cell_type": "code",
   "execution_count": 5,
   "metadata": {},
   "outputs": [],
   "source": [
    "# split data into train and test\n",
    "X_train, X_test, y_train, y_test = train_test_split(X, y)"
   ]
  },
  {
   "cell_type": "code",
   "execution_count": 6,
   "metadata": {},
   "outputs": [],
   "source": [
    "# scale the x/y variables\n",
    "X_scaler = MinMaxScaler().fit(X_train)\n",
    "X_train_scaled = X_scaler.transform(X_train)\n",
    "X_test_scaled = X_scaler.transform(X_test)\n",
    "\n",
    "#y_scaler = StandardScaler().fit(y_train)\n",
    "#y_train_scaled = y_scaler.transform(y_train)\n",
    "#y_test_scaled = y_scaler.transform(y_test)"
   ]
  },
  {
   "cell_type": "code",
   "execution_count": 7,
   "metadata": {},
   "outputs": [],
   "source": [
    "# label encode the y variable \n",
    "label_encoder = LabelEncoder()\n",
    "label_encoder.fit(y_train)\n",
    "encoded_y_train = label_encoder.transform(y_train)\n",
    "encoded_y_test = label_encoder.transform(y_test)\n",
    "\n",
    "y_train_categorical = to_categorical(encoded_y_train)\n",
    "y_test_categorical = to_categorical(encoded_y_test)"
   ]
  },
  {
   "cell_type": "code",
   "execution_count": 8,
   "metadata": {},
   "outputs": [],
   "source": [
    "# create a sequential model\n",
    "model = Sequential()"
   ]
  },
  {
   "cell_type": "code",
   "execution_count": 9,
   "metadata": {},
   "outputs": [],
   "source": [
    "# add the first layer of neural network\n",
    "model.add(Dense(units=4, activation='relu', input_dim=9))"
   ]
  },
  {
   "cell_type": "code",
   "execution_count": 10,
   "metadata": {},
   "outputs": [],
   "source": [
    "# add the output layer\n",
    "model.add(Dense(units=2, activation='softmax'))"
   ]
  },
  {
   "cell_type": "code",
   "execution_count": 11,
   "metadata": {},
   "outputs": [],
   "source": [
    "# compile the model\n",
    "recall = tf.keras.metrics.Recall()\n",
    "precision = tf.keras.metrics.Precision()\n",
    "model.compile(optimizer='adam',\n",
    "              loss='categorical_crossentropy',\n",
    "              metrics=['accuracy', recall, precision])"
   ]
  },
  {
   "cell_type": "code",
   "execution_count": 12,
   "metadata": {},
   "outputs": [
    {
     "output_type": "stream",
     "name": "stdout",
     "text": [
      "Model: \"sequential\"\n_________________________________________________________________\nLayer (type)                 Output Shape              Param #   \n=================================================================\ndense (Dense)                (None, 4)                 40        \n_________________________________________________________________\ndense_1 (Dense)              (None, 2)                 10        \n=================================================================\nTotal params: 50\nTrainable params: 50\nNon-trainable params: 0\n_________________________________________________________________\n"
     ]
    }
   ],
   "source": [
    "# get the model summary before training\n",
    "model.summary()"
   ]
  },
  {
   "cell_type": "code",
   "execution_count": 13,
   "metadata": {
    "tags": []
   },
   "outputs": [
    {
     "output_type": "stream",
     "name": "stdout",
     "text": [
      "Train on 10483 samples\n",
      "Epoch 1/100\n",
      "10483/10483 - 7s - loss: 0.3776 - accuracy: 0.9658 - recall: 0.9655 - precision: 0.9657\n",
      "Epoch 2/100\n",
      "10483/10483 - 2s - loss: 0.1193 - accuracy: 0.9829 - recall: 0.9829 - precision: 0.9829\n",
      "Epoch 3/100\n",
      "10483/10483 - 1s - loss: 0.0764 - accuracy: 0.9829 - recall: 0.9829 - precision: 0.9829\n",
      "Epoch 4/100\n",
      "10483/10483 - 2s - loss: 0.0648 - accuracy: 0.9830 - recall: 0.9830 - precision: 0.9830\n",
      "Epoch 5/100\n",
      "10483/10483 - 2s - loss: 0.0611 - accuracy: 0.9829 - recall: 0.9829 - precision: 0.9829\n",
      "Epoch 6/100\n",
      "10483/10483 - 2s - loss: 0.0596 - accuracy: 0.9835 - recall: 0.9835 - precision: 0.9835\n",
      "Epoch 7/100\n",
      "10483/10483 - 2s - loss: 0.0588 - accuracy: 0.9846 - recall: 0.9846 - precision: 0.9846\n",
      "Epoch 8/100\n",
      "10483/10483 - 2s - loss: 0.0584 - accuracy: 0.9843 - recall: 0.9843 - precision: 0.9843\n",
      "Epoch 9/100\n",
      "10483/10483 - 1s - loss: 0.0581 - accuracy: 0.9845 - recall: 0.9845 - precision: 0.9845\n",
      "Epoch 10/100\n",
      "10483/10483 - 1s - loss: 0.0578 - accuracy: 0.9849 - recall: 0.9849 - precision: 0.9849\n",
      "Epoch 11/100\n",
      "10483/10483 - 2s - loss: 0.0576 - accuracy: 0.9852 - recall: 0.9852 - precision: 0.9852\n",
      "Epoch 12/100\n",
      "10483/10483 - 1s - loss: 0.0573 - accuracy: 0.9851 - recall: 0.9851 - precision: 0.9851\n",
      "Epoch 13/100\n",
      "10483/10483 - 2s - loss: 0.0572 - accuracy: 0.9864 - recall: 0.9864 - precision: 0.9864\n",
      "Epoch 14/100\n",
      "10483/10483 - 2s - loss: 0.0570 - accuracy: 0.9851 - recall: 0.9851 - precision: 0.9851\n",
      "Epoch 15/100\n",
      "10483/10483 - 1s - loss: 0.0568 - accuracy: 0.9860 - recall: 0.9860 - precision: 0.9860\n",
      "Epoch 16/100\n",
      "10483/10483 - 1s - loss: 0.0568 - accuracy: 0.9855 - recall: 0.9855 - precision: 0.9855\n",
      "Epoch 17/100\n",
      "10483/10483 - 1s - loss: 0.0566 - accuracy: 0.9857 - recall: 0.9857 - precision: 0.9857\n",
      "Epoch 18/100\n",
      "10483/10483 - 1s - loss: 0.0564 - accuracy: 0.9857 - recall: 0.9857 - precision: 0.9857\n",
      "Epoch 19/100\n",
      "10483/10483 - 1s - loss: 0.0564 - accuracy: 0.9856 - recall: 0.9856 - precision: 0.9856\n",
      "Epoch 20/100\n",
      "10483/10483 - 1s - loss: 0.0561 - accuracy: 0.9861 - recall: 0.9861 - precision: 0.9861\n",
      "Epoch 21/100\n",
      "10483/10483 - 1s - loss: 0.0562 - accuracy: 0.9861 - recall: 0.9861 - precision: 0.9861\n",
      "Epoch 22/100\n",
      "10483/10483 - 1s - loss: 0.0559 - accuracy: 0.9858 - recall: 0.9858 - precision: 0.9858\n",
      "Epoch 23/100\n",
      "10483/10483 - 1s - loss: 0.0558 - accuracy: 0.9860 - recall: 0.9860 - precision: 0.9860\n",
      "Epoch 24/100\n",
      "10483/10483 - 1s - loss: 0.0559 - accuracy: 0.9860 - recall: 0.9860 - precision: 0.9860\n",
      "Epoch 25/100\n",
      "10483/10483 - 1s - loss: 0.0558 - accuracy: 0.9862 - recall: 0.9862 - precision: 0.9862\n",
      "Epoch 26/100\n",
      "10483/10483 - 1s - loss: 0.0557 - accuracy: 0.9857 - recall: 0.9857 - precision: 0.9857\n",
      "Epoch 27/100\n",
      "10483/10483 - 1s - loss: 0.0556 - accuracy: 0.9862 - recall: 0.9862 - precision: 0.9862\n",
      "Epoch 28/100\n",
      "10483/10483 - 1s - loss: 0.0555 - accuracy: 0.9862 - recall: 0.9862 - precision: 0.9862\n",
      "Epoch 29/100\n",
      "10483/10483 - 1s - loss: 0.0554 - accuracy: 0.9865 - recall: 0.9865 - precision: 0.9865\n",
      "Epoch 30/100\n",
      "10483/10483 - 1s - loss: 0.0555 - accuracy: 0.9861 - recall: 0.9861 - precision: 0.9861\n",
      "Epoch 31/100\n",
      "10483/10483 - 1s - loss: 0.0553 - accuracy: 0.9865 - recall: 0.9865 - precision: 0.9865\n",
      "Epoch 32/100\n",
      "10483/10483 - 1s - loss: 0.0554 - accuracy: 0.9862 - recall: 0.9862 - precision: 0.9862\n",
      "Epoch 33/100\n",
      "10483/10483 - 1s - loss: 0.0552 - accuracy: 0.9863 - recall: 0.9863 - precision: 0.9863\n",
      "Epoch 34/100\n",
      "10483/10483 - 1s - loss: 0.0553 - accuracy: 0.9864 - recall: 0.9864 - precision: 0.9864\n",
      "Epoch 35/100\n",
      "10483/10483 - 1s - loss: 0.0553 - accuracy: 0.9862 - recall: 0.9862 - precision: 0.9862\n",
      "Epoch 36/100\n",
      "10483/10483 - 1s - loss: 0.0551 - accuracy: 0.9863 - recall: 0.9863 - precision: 0.9863\n",
      "Epoch 37/100\n",
      "10483/10483 - 1s - loss: 0.0550 - accuracy: 0.9860 - recall: 0.9860 - precision: 0.9860\n",
      "Epoch 38/100\n",
      "10483/10483 - 1s - loss: 0.0551 - accuracy: 0.9865 - recall: 0.9865 - precision: 0.9865\n",
      "Epoch 39/100\n",
      "10483/10483 - 1s - loss: 0.0550 - accuracy: 0.9865 - recall: 0.9865 - precision: 0.9865\n",
      "Epoch 40/100\n",
      "10483/10483 - 1s - loss: 0.0550 - accuracy: 0.9866 - recall: 0.9866 - precision: 0.9866\n",
      "Epoch 41/100\n",
      "10483/10483 - 1s - loss: 0.0550 - accuracy: 0.9859 - recall: 0.9859 - precision: 0.9859\n",
      "Epoch 42/100\n",
      "10483/10483 - 1s - loss: 0.0548 - accuracy: 0.9870 - recall: 0.9870 - precision: 0.9870\n",
      "Epoch 43/100\n",
      "10483/10483 - 1s - loss: 0.0548 - accuracy: 0.9868 - recall: 0.9868 - precision: 0.9868\n",
      "Epoch 44/100\n",
      "10483/10483 - 1s - loss: 0.0550 - accuracy: 0.9863 - recall: 0.9863 - precision: 0.9863\n",
      "Epoch 45/100\n",
      "10483/10483 - 1s - loss: 0.0549 - accuracy: 0.9865 - recall: 0.9865 - precision: 0.9865\n",
      "Epoch 46/100\n",
      "10483/10483 - 1s - loss: 0.0548 - accuracy: 0.9865 - recall: 0.9865 - precision: 0.9865\n",
      "Epoch 47/100\n",
      "10483/10483 - 1s - loss: 0.0547 - accuracy: 0.9866 - recall: 0.9866 - precision: 0.9866\n",
      "Epoch 48/100\n",
      "10483/10483 - 1s - loss: 0.0549 - accuracy: 0.9865 - recall: 0.9865 - precision: 0.9865\n",
      "Epoch 49/100\n",
      "10483/10483 - 1s - loss: 0.0547 - accuracy: 0.9865 - recall: 0.9865 - precision: 0.9865\n",
      "Epoch 50/100\n",
      "10483/10483 - 1s - loss: 0.0548 - accuracy: 0.9865 - recall: 0.9865 - precision: 0.9865\n",
      "Epoch 51/100\n",
      "10483/10483 - 1s - loss: 0.0548 - accuracy: 0.9866 - recall: 0.9866 - precision: 0.9866\n",
      "Epoch 52/100\n",
      "10483/10483 - 1s - loss: 0.0546 - accuracy: 0.9866 - recall: 0.9866 - precision: 0.9866\n",
      "Epoch 53/100\n",
      "10483/10483 - 1s - loss: 0.0547 - accuracy: 0.9866 - recall: 0.9866 - precision: 0.9866\n",
      "Epoch 54/100\n",
      "10483/10483 - 1s - loss: 0.0548 - accuracy: 0.9869 - recall: 0.9869 - precision: 0.9869\n",
      "Epoch 55/100\n",
      "10483/10483 - 1s - loss: 0.0548 - accuracy: 0.9863 - recall: 0.9863 - precision: 0.9863\n",
      "Epoch 56/100\n",
      "10483/10483 - 1s - loss: 0.0548 - accuracy: 0.9867 - recall: 0.9867 - precision: 0.9867\n",
      "Epoch 57/100\n",
      "10483/10483 - 1s - loss: 0.0547 - accuracy: 0.9860 - recall: 0.9860 - precision: 0.9860\n",
      "Epoch 58/100\n",
      "10483/10483 - 1s - loss: 0.0546 - accuracy: 0.9864 - recall: 0.9864 - precision: 0.9864\n",
      "Epoch 59/100\n",
      "10483/10483 - 1s - loss: 0.0545 - accuracy: 0.9866 - recall: 0.9866 - precision: 0.9866\n",
      "Epoch 60/100\n",
      "10483/10483 - 1s - loss: 0.0546 - accuracy: 0.9865 - recall: 0.9865 - precision: 0.9865\n",
      "Epoch 61/100\n",
      "10483/10483 - 1s - loss: 0.0545 - accuracy: 0.9865 - recall: 0.9865 - precision: 0.9865\n",
      "Epoch 62/100\n",
      "10483/10483 - 1s - loss: 0.0546 - accuracy: 0.9865 - recall: 0.9865 - precision: 0.9865\n",
      "Epoch 63/100\n",
      "10483/10483 - 1s - loss: 0.0546 - accuracy: 0.9868 - recall: 0.9868 - precision: 0.9868\n",
      "Epoch 64/100\n",
      "10483/10483 - 1s - loss: 0.0545 - accuracy: 0.9867 - recall: 0.9867 - precision: 0.9867\n",
      "Epoch 65/100\n",
      "10483/10483 - 1s - loss: 0.0546 - accuracy: 0.9865 - recall: 0.9865 - precision: 0.9865\n",
      "Epoch 66/100\n",
      "10483/10483 - 1s - loss: 0.0545 - accuracy: 0.9865 - recall: 0.9865 - precision: 0.9865\n",
      "Epoch 67/100\n",
      "10483/10483 - 1s - loss: 0.0546 - accuracy: 0.9866 - recall: 0.9866 - precision: 0.9866\n",
      "Epoch 68/100\n",
      "10483/10483 - 1s - loss: 0.0546 - accuracy: 0.9869 - recall: 0.9869 - precision: 0.9869\n",
      "Epoch 69/100\n",
      "10483/10483 - 1s - loss: 0.0543 - accuracy: 0.9865 - recall: 0.9865 - precision: 0.9865\n",
      "Epoch 70/100\n",
      "10483/10483 - 1s - loss: 0.0543 - accuracy: 0.9866 - recall: 0.9866 - precision: 0.9866\n",
      "Epoch 71/100\n",
      "10483/10483 - 1s - loss: 0.0545 - accuracy: 0.9867 - recall: 0.9867 - precision: 0.9867\n",
      "Epoch 72/100\n",
      "10483/10483 - 1s - loss: 0.0545 - accuracy: 0.9865 - recall: 0.9865 - precision: 0.9865\n",
      "Epoch 73/100\n",
      "10483/10483 - 1s - loss: 0.0545 - accuracy: 0.9869 - recall: 0.9869 - precision: 0.9869\n",
      "Epoch 74/100\n",
      "10483/10483 - 1s - loss: 0.0543 - accuracy: 0.9869 - recall: 0.9869 - precision: 0.9869\n",
      "Epoch 75/100\n",
      "10483/10483 - 1s - loss: 0.0545 - accuracy: 0.9865 - recall: 0.9865 - precision: 0.9865\n",
      "Epoch 76/100\n",
      "10483/10483 - 1s - loss: 0.0545 - accuracy: 0.9866 - recall: 0.9866 - precision: 0.9866\n",
      "Epoch 77/100\n",
      "10483/10483 - 1s - loss: 0.0543 - accuracy: 0.9868 - recall: 0.9868 - precision: 0.9868\n",
      "Epoch 78/100\n",
      "10483/10483 - 1s - loss: 0.0543 - accuracy: 0.9867 - recall: 0.9867 - precision: 0.9867\n",
      "Epoch 79/100\n",
      "10483/10483 - 1s - loss: 0.0545 - accuracy: 0.9865 - recall: 0.9865 - precision: 0.9865\n",
      "Epoch 80/100\n",
      "10483/10483 - 1s - loss: 0.0545 - accuracy: 0.9866 - recall: 0.9866 - precision: 0.9866\n",
      "Epoch 81/100\n",
      "10483/10483 - 1s - loss: 0.0544 - accuracy: 0.9864 - recall: 0.9864 - precision: 0.9864\n",
      "Epoch 82/100\n",
      "10483/10483 - 1s - loss: 0.0544 - accuracy: 0.9865 - recall: 0.9865 - precision: 0.9865\n",
      "Epoch 83/100\n",
      "10483/10483 - 1s - loss: 0.0546 - accuracy: 0.9866 - recall: 0.9866 - precision: 0.9866\n",
      "Epoch 84/100\n",
      "10483/10483 - 1s - loss: 0.0544 - accuracy: 0.9865 - recall: 0.9865 - precision: 0.9865\n",
      "Epoch 85/100\n",
      "10483/10483 - 1s - loss: 0.0544 - accuracy: 0.9865 - recall: 0.9865 - precision: 0.9865\n",
      "Epoch 86/100\n",
      "10483/10483 - 1s - loss: 0.0544 - accuracy: 0.9865 - recall: 0.9865 - precision: 0.9865\n",
      "Epoch 87/100\n",
      "10483/10483 - 1s - loss: 0.0545 - accuracy: 0.9863 - recall: 0.9863 - precision: 0.9863\n",
      "Epoch 88/100\n",
      "10483/10483 - 1s - loss: 0.0542 - accuracy: 0.9864 - recall: 0.9864 - precision: 0.9864\n",
      "Epoch 89/100\n",
      "10483/10483 - 1s - loss: 0.0543 - accuracy: 0.9866 - recall: 0.9866 - precision: 0.9866\n",
      "Epoch 90/100\n",
      "10483/10483 - 1s - loss: 0.0545 - accuracy: 0.9864 - recall: 0.9864 - precision: 0.9864\n",
      "Epoch 91/100\n",
      "10483/10483 - 1s - loss: 0.0544 - accuracy: 0.9870 - recall: 0.9870 - precision: 0.9870\n",
      "Epoch 92/100\n",
      "10483/10483 - 1s - loss: 0.0543 - accuracy: 0.9868 - recall: 0.9868 - precision: 0.9868\n",
      "Epoch 93/100\n",
      "10483/10483 - 1s - loss: 0.0542 - accuracy: 0.9864 - recall: 0.9864 - precision: 0.9864\n",
      "Epoch 94/100\n",
      "10483/10483 - 1s - loss: 0.0543 - accuracy: 0.9866 - recall: 0.9866 - precision: 0.9866\n",
      "Epoch 95/100\n",
      "10483/10483 - 1s - loss: 0.0543 - accuracy: 0.9865 - recall: 0.9865 - precision: 0.9865\n",
      "Epoch 96/100\n",
      "10483/10483 - 1s - loss: 0.0542 - accuracy: 0.9869 - recall: 0.9869 - precision: 0.9869\n",
      "Epoch 97/100\n",
      "10483/10483 - 1s - loss: 0.0542 - accuracy: 0.9870 - recall: 0.9870 - precision: 0.9870\n",
      "Epoch 98/100\n",
      "10483/10483 - 1s - loss: 0.0541 - accuracy: 0.9867 - recall: 0.9867 - precision: 0.9867\n",
      "Epoch 99/100\n",
      "10483/10483 - 1s - loss: 0.0542 - accuracy: 0.9870 - recall: 0.9870 - precision: 0.9870\n",
      "Epoch 100/100\n",
      "10483/10483 - 1s - loss: 0.0542 - accuracy: 0.9866 - recall: 0.9866 - precision: 0.9866\n"
     ]
    },
    {
     "output_type": "execute_result",
     "data": {
      "text/plain": [
       "<tensorflow.python.keras.callbacks.History at 0x7fa96645c048>"
      ]
     },
     "metadata": {},
     "execution_count": 13
    }
   ],
   "source": [
    "# Fit (train) the model\n",
    "model.fit(\n",
    "    X_train_scaled,\n",
    "    y_train_categorical,\n",
    "    epochs=100,\n",
    "    shuffle=True,\n",
    "    verbose=2\n",
    ")"
   ]
  },
  {
   "cell_type": "code",
   "execution_count": 14,
   "metadata": {},
   "outputs": [
    {
     "output_type": "stream",
     "name": "stdout",
     "text": [
      "3495/1 - 1s - loss: 0.3872 - accuracy: 0.9854 - recall: 0.9854 - precision: 0.9854\n",
      "Normal Neural Network - LOSS: 0.054, ACCURACY: 0.9850000143051147, RECALL: 0.9850000143051147, PRECISION: 0.9850000143051147\n"
     ]
    }
   ],
   "source": [
    "# evaluate the model \n",
    "model_loss, model_accuracy, model_recall, model_precision = model.evaluate(\n",
    "    X_test_scaled, y_test_categorical, verbose=2)\n",
    "print(\n",
    "    f\"Normal Neural Network - LOSS: {round(model_loss, 3)}, ACCURACY: {round(model_accuracy, 3)}, RECALL: {round(model_recall, 3)}, PRECISION: {round(model_precision, 3)}\")"
   ]
  },
  {
   "cell_type": "code",
   "execution_count": 21,
   "metadata": {},
   "outputs": [
    {
     "output_type": "stream",
     "name": "stdout",
     "text": [
      "WARNING:tensorflow:Falling back from v2 loop because of error: Failed to find data adapter that can handle input: <class 'pandas.core.frame.DataFrame'>, <class 'NoneType'>\n"
     ]
    },
    {
     "output_type": "execute_result",
     "data": {
      "text/plain": [
       "array([[5.6051066e-16, 1.0000000e+00]], dtype=float32)"
      ]
     },
     "metadata": {},
     "execution_count": 21
    }
   ],
   "source": [
    "# test the model using a sample player\n",
    "player_predict = model.predict(replaced_df.loc[replaced_df[\"name\"] == \"Andy Abad\", [\"at_bats\", \"runs\", \"hits\", \"runs_batted_in\",  \"bases_on_balls\", \"doubles\", \"triples\", \"home_runs\", \"stolen_bases\"]])\n",
    "player_predict"
   ]
  },
  {
   "cell_type": "code",
   "execution_count": null,
   "metadata": {},
   "outputs": [],
   "source": []
  }
 ]
}